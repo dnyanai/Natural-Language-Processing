{
 "cells": [
  {
   "cell_type": "markdown",
   "metadata": {
    "id": "B4zqQUfoC5on"
   },
   "source": [
    "## Loading the Tweets dataset:"
   ]
  },
  {
   "cell_type": "code",
   "execution_count": 306,
   "metadata": {
    "id": "zVPTHY5hC3VA"
   },
   "outputs": [],
   "source": [
    "## Importing libraries:\n",
    "import pickle\n",
    "import pandas as pd\n",
    "import random \n",
    "import math"
   ]
  },
  {
   "cell_type": "code",
   "execution_count": 307,
   "metadata": {
    "colab": {
     "base_uri": "https://localhost:8080/"
    },
    "id": "YULqlstXDUF0",
    "outputId": "9f9b92f0-e7ea-475b-f9bd-bca3c126c1ab"
   },
   "outputs": [
    {
     "name": "stdout",
     "output_type": "stream",
     "text": [
      "Requirement already satisfied: bert-for-tf2 in /usr/local/lib/python3.6/dist-packages (0.14.7)\n",
      "Requirement already satisfied: params-flow>=0.8.0 in /usr/local/lib/python3.6/dist-packages (from bert-for-tf2) (0.8.2)\n",
      "Requirement already satisfied: py-params>=0.9.6 in /usr/local/lib/python3.6/dist-packages (from bert-for-tf2) (0.9.7)\n",
      "Requirement already satisfied: tqdm in /usr/local/lib/python3.6/dist-packages (from params-flow>=0.8.0->bert-for-tf2) (4.41.1)\n",
      "Requirement already satisfied: numpy in /usr/local/lib/python3.6/dist-packages (from params-flow>=0.8.0->bert-for-tf2) (1.18.5)\n",
      "Requirement already satisfied: sentencepiece in /usr/local/lib/python3.6/dist-packages (0.1.94)\n"
     ]
    }
   ],
   "source": [
    "import numpy as np\n",
    "!pip install bert-for-tf2\n",
    "!pip install sentencepiece\n",
    "import tensorflow as tf\n",
    "import tensorflow_hub as hub\n",
    "from tensorflow.keras import layers\n",
    "import bert"
   ]
  },
  {
   "cell_type": "code",
   "execution_count": 308,
   "metadata": {
    "colab": {
     "base_uri": "https://localhost:8080/"
    },
    "id": "oNJkO7xdN7ES",
    "outputId": "984a4379-c42e-489c-baee-ac34eef3fb1f"
   },
   "outputs": [
    {
     "name": "stdout",
     "output_type": "stream",
     "text": [
      "2.3.0\n"
     ]
    }
   ],
   "source": [
    "print(tf.__version__)"
   ]
  },
  {
   "cell_type": "code",
   "execution_count": 309,
   "metadata": {
    "id": "_JPDhF8yCcn-"
   },
   "outputs": [],
   "source": [
    "with open(r\"/content/sample_data/Entire_Dataset.pkl\", \"rb\") as input_file:\n",
    "      df_1= pickle.load(input_file)"
   ]
  },
  {
   "cell_type": "code",
   "execution_count": 310,
   "metadata": {
    "id": "HjIb4WZHC2k_"
   },
   "outputs": [],
   "source": [
    "with open(r\"/content/sample_data/tweets_100_Dec_3.pkl\", \"rb\") as input_file:\n",
    "      df_2= pickle.load(input_file)"
   ]
  },
  {
   "cell_type": "code",
   "execution_count": 311,
   "metadata": {
    "colab": {
     "base_uri": "https://localhost:8080/"
    },
    "id": "SwFpqYI0C_5q",
    "outputId": "f72208e2-179f-49eb-9a1a-6867064e7a48"
   },
   "outputs": [
    {
     "data": {
      "text/plain": [
       "89"
      ]
     },
     "execution_count": 311,
     "metadata": {
      "tags": []
     },
     "output_type": "execute_result"
    }
   ],
   "source": [
    "df_1 = df_1[df_1.labels!=''] ##Ignoring the irrelevant labels\n",
    "len(df_1)"
   ]
  },
  {
   "cell_type": "code",
   "execution_count": 312,
   "metadata": {
    "colab": {
     "base_uri": "https://localhost:8080/"
    },
    "id": "2fPuM_MdDAgu",
    "outputId": "c0e5e328-31aa-43d9-a290-910bb59d3064"
   },
   "outputs": [
    {
     "data": {
      "text/plain": [
       "141"
      ]
     },
     "execution_count": 312,
     "metadata": {
      "tags": []
     },
     "output_type": "execute_result"
    }
   ],
   "source": [
    "df_2 = df_2[df_2.labels!=''] ##Ignoring the irrelevant labels\n",
    "len(df_2)"
   ]
  },
  {
   "cell_type": "code",
   "execution_count": 313,
   "metadata": {
    "colab": {
     "base_uri": "https://localhost:8080/"
    },
    "id": "zGfIWdUhLaqK",
    "outputId": "d991a7c1-8750-4357-e15c-541c0e76647b"
   },
   "outputs": [
    {
     "data": {
      "text/plain": [
       "88"
      ]
     },
     "execution_count": 313,
     "metadata": {
      "tags": []
     },
     "output_type": "execute_result"
    }
   ],
   "source": [
    "len(df_1.full_text.unique())"
   ]
  },
  {
   "cell_type": "code",
   "execution_count": 314,
   "metadata": {
    "colab": {
     "base_uri": "https://localhost:8080/"
    },
    "id": "4_ROGjaYLh-s",
    "outputId": "790fb67d-cad8-47f2-a83e-6f2cafec1941"
   },
   "outputs": [
    {
     "data": {
      "text/plain": [
       "141"
      ]
     },
     "execution_count": 314,
     "metadata": {
      "tags": []
     },
     "output_type": "execute_result"
    }
   ],
   "source": [
    "len(df_2.full_text.unique())"
   ]
  },
  {
   "cell_type": "code",
   "execution_count": 315,
   "metadata": {
    "colab": {
     "base_uri": "https://localhost:8080/"
    },
    "id": "5BDxHJqKLlDz",
    "outputId": "eefe7ad3-ee70-4218-9367-e16fbdac64f4"
   },
   "outputs": [
    {
     "data": {
      "text/plain": [
       "230"
      ]
     },
     "execution_count": 315,
     "metadata": {
      "tags": []
     },
     "output_type": "execute_result"
    }
   ],
   "source": [
    "df = df_2.append(df_1,ignore_index=False) \n",
    "len(df)"
   ]
  },
  {
   "cell_type": "code",
   "execution_count": 316,
   "metadata": {
    "id": "ogh8XcIBLx-p"
   },
   "outputs": [],
   "source": [
    "df.reset_index(drop=True).drop(['created_at','url'],axis=1,inplace=True)"
   ]
  },
  {
   "cell_type": "code",
   "execution_count": 317,
   "metadata": {
    "colab": {
     "base_uri": "https://localhost:8080/",
     "height": 529
    },
    "id": "lSIkdFZ-Lylf",
    "outputId": "307dd912-14c8-46fb-9de5-d7b1a2dba814"
   },
   "outputs": [
    {
     "data": {
      "text/html": [
       "<div>\n",
       "<style scoped>\n",
       "    .dataframe tbody tr th:only-of-type {\n",
       "        vertical-align: middle;\n",
       "    }\n",
       "\n",
       "    .dataframe tbody tr th {\n",
       "        vertical-align: top;\n",
       "    }\n",
       "\n",
       "    .dataframe thead th {\n",
       "        text-align: right;\n",
       "    }\n",
       "</style>\n",
       "<table border=\"1\" class=\"dataframe\">\n",
       "  <thead>\n",
       "    <tr style=\"text-align: right;\">\n",
       "      <th></th>\n",
       "      <th>tweet_id</th>\n",
       "      <th>created_at</th>\n",
       "      <th>full_text</th>\n",
       "      <th>url</th>\n",
       "      <th>disp_url</th>\n",
       "      <th>labels</th>\n",
       "      <th>articles</th>\n",
       "    </tr>\n",
       "  </thead>\n",
       "  <tbody>\n",
       "    <tr>\n",
       "      <th>0</th>\n",
       "      <td>1334673337591754755</td>\n",
       "      <td>Fri Dec 04 01:38:15 +0000 2020</td>\n",
       "      <td>Introducing Salesforce Hyperforce: the world’s...</td>\n",
       "      <td>https://www.salesforce.com/news/press-releases...</td>\n",
       "      <td>salesforce.com/news/press-rel…</td>\n",
       "      <td>press releases</td>\n",
       "      <td>The world’s #1 CRM, available on major public ...</td>\n",
       "    </tr>\n",
       "    <tr>\n",
       "      <th>1</th>\n",
       "      <td>1334636358414049282</td>\n",
       "      <td>Thu Dec 03 23:11:18 +0000 2020</td>\n",
       "      <td>Salesforce Introduces Service Cloud Workforce ...</td>\n",
       "      <td>https://www.salesforce.com/news/press-releases...</td>\n",
       "      <td>salesforce.com/news/press-rel…</td>\n",
       "      <td>press releases</td>\n",
       "      <td>Service leaders will be able to predict custom...</td>\n",
       "    </tr>\n",
       "    <tr>\n",
       "      <th>2</th>\n",
       "      <td>1334608137018630146</td>\n",
       "      <td>Thu Dec 03 21:19:10 +0000 2020</td>\n",
       "      <td>The Biggest News from Dreamforce to You https:...</td>\n",
       "      <td>https://www.salesforce.com/news/stories/the-bi...</td>\n",
       "      <td>salesforce.com/news/stories/t…</td>\n",
       "      <td>case studies</td>\n",
       "      <td>Every part of our lives have been transformed ...</td>\n",
       "    </tr>\n",
       "    <tr>\n",
       "      <th>5</th>\n",
       "      <td>1334576945602981890</td>\n",
       "      <td>Thu Dec 03 19:15:13 +0000 2020</td>\n",
       "      <td>Today we recognize the International Day of Pe...</td>\n",
       "      <td>https://sforce.co/2VAYQOS</td>\n",
       "      <td>sforce.co/2VAYQOS</td>\n",
       "      <td>case studies</td>\n",
       "      <td></td>\n",
       "    </tr>\n",
       "    <tr>\n",
       "      <th>7</th>\n",
       "      <td>1334533636205449216</td>\n",
       "      <td>Thu Dec 03 16:23:07 +0000 2020</td>\n",
       "      <td>Fortune Names Salesforce a Future 50 Company f...</td>\n",
       "      <td>https://www.salesforce.com/news/stories/fortun...</td>\n",
       "      <td>salesforce.com/news/stories/f…</td>\n",
       "      <td>case studies</td>\n",
       "      <td>Fortune Magazine just announced its Future 50 ...</td>\n",
       "    </tr>\n",
       "  </tbody>\n",
       "</table>\n",
       "</div>"
      ],
      "text/plain": [
       "              tweet_id  ...                                           articles\n",
       "0  1334673337591754755  ...  The world’s #1 CRM, available on major public ...\n",
       "1  1334636358414049282  ...  Service leaders will be able to predict custom...\n",
       "2  1334608137018630146  ...  Every part of our lives have been transformed ...\n",
       "5  1334576945602981890  ...                                                   \n",
       "7  1334533636205449216  ...  Fortune Magazine just announced its Future 50 ...\n",
       "\n",
       "[5 rows x 7 columns]"
      ]
     },
     "execution_count": 317,
     "metadata": {
      "tags": []
     },
     "output_type": "execute_result"
    }
   ],
   "source": [
    "df.head()"
   ]
  },
  {
   "cell_type": "code",
   "execution_count": 318,
   "metadata": {
    "colab": {
     "base_uri": "https://localhost:8080/"
    },
    "id": "wlaPEWHyMHGH",
    "outputId": "c8135229-2d0e-4ef0-9099-2e2958eb703c"
   },
   "outputs": [
    {
     "data": {
      "text/plain": [
       "230"
      ]
     },
     "execution_count": 318,
     "metadata": {
      "tags": []
     },
     "output_type": "execute_result"
    }
   ],
   "source": [
    "len(df)"
   ]
  },
  {
   "cell_type": "code",
   "execution_count": 319,
   "metadata": {
    "colab": {
     "base_uri": "https://localhost:8080/"
    },
    "id": "G9twiFmLMiDi",
    "outputId": "8072310e-2515-48f9-8407-7f7e548afd26"
   },
   "outputs": [
    {
     "data": {
      "text/plain": [
       "166"
      ]
     },
     "execution_count": 319,
     "metadata": {
      "tags": []
     },
     "output_type": "execute_result"
    }
   ],
   "source": [
    "len(df.full_text.unique())"
   ]
  },
  {
   "cell_type": "code",
   "execution_count": 320,
   "metadata": {
    "id": "aAeescdzM1z6"
   },
   "outputs": [],
   "source": [
    "dataset = df.drop_duplicates() "
   ]
  },
  {
   "cell_type": "code",
   "execution_count": 321,
   "metadata": {
    "colab": {
     "base_uri": "https://localhost:8080/"
    },
    "id": "kq7UN08JNbGp",
    "outputId": "0648b7da-6326-45a0-acfd-99fb4f4af327"
   },
   "outputs": [
    {
     "data": {
      "text/plain": [
       "230"
      ]
     },
     "execution_count": 321,
     "metadata": {
      "tags": []
     },
     "output_type": "execute_result"
    }
   ],
   "source": [
    "len(dataset)"
   ]
  },
  {
   "cell_type": "code",
   "execution_count": 322,
   "metadata": {
    "colab": {
     "base_uri": "https://localhost:8080/"
    },
    "id": "33_WNTmDNdxb",
    "outputId": "524c8f6f-8f22-464b-f984-c092fdf9384c"
   },
   "outputs": [
    {
     "data": {
      "text/plain": [
       "press releases    122\n",
       "case studies      108\n",
       "Name: labels, dtype: int64"
      ]
     },
     "execution_count": 322,
     "metadata": {
      "tags": []
     },
     "output_type": "execute_result"
    }
   ],
   "source": [
    "dataset.labels.value_counts()"
   ]
  },
  {
   "cell_type": "code",
   "execution_count": 323,
   "metadata": {
    "colab": {
     "base_uri": "https://localhost:8080/"
    },
    "id": "RVzbJVxhN9Om",
    "outputId": "9b270bfb-bb8b-4764-e029-4bbec0461212"
   },
   "outputs": [
    {
     "data": {
      "text/plain": [
       "(230, 7)"
      ]
     },
     "execution_count": 323,
     "metadata": {
      "tags": []
     },
     "output_type": "execute_result"
    }
   ],
   "source": [
    "dataset.shape"
   ]
  },
  {
   "cell_type": "code",
   "execution_count": 324,
   "metadata": {
    "colab": {
     "base_uri": "https://localhost:8080/"
    },
    "id": "LnHOXLq2OFzs",
    "outputId": "06d61d4e-94c4-42e2-aace-bac4a63784b2"
   },
   "outputs": [
    {
     "data": {
      "text/plain": [
       "Index(['tweet_id', 'created_at', 'full_text', 'url', 'disp_url', 'labels',\n",
       "       'articles'],\n",
       "      dtype='object')"
      ]
     },
     "execution_count": 324,
     "metadata": {
      "tags": []
     },
     "output_type": "execute_result"
    }
   ],
   "source": [
    "dataset.columns"
   ]
  },
  {
   "cell_type": "markdown",
   "metadata": {
    "id": "XpRKZuwaDbpL"
   },
   "source": [
    "## Prepping data before making the model:"
   ]
  },
  {
   "cell_type": "code",
   "execution_count": 325,
   "metadata": {
    "id": "YTR7imYDOIuL"
   },
   "outputs": [],
   "source": [
    "data = dataset[['full_text','labels']].copy(deep=True).reset_index(drop=True)"
   ]
  },
  {
   "cell_type": "code",
   "execution_count": 326,
   "metadata": {
    "colab": {
     "base_uri": "https://localhost:8080/"
    },
    "id": "2LqRT7U2OQtv",
    "outputId": "549c6129-d46c-443f-ea23-4c4256db97b5"
   },
   "outputs": [
    {
     "data": {
      "text/plain": [
       "(230, 2)"
      ]
     },
     "execution_count": 326,
     "metadata": {
      "tags": []
     },
     "output_type": "execute_result"
    }
   ],
   "source": [
    "data.shape"
   ]
  },
  {
   "cell_type": "code",
   "execution_count": 327,
   "metadata": {
    "colab": {
     "base_uri": "https://localhost:8080/",
     "height": 110
    },
    "id": "3iNLOFAJOVM6",
    "outputId": "3c6dec7f-ff89-4595-c87f-485b6e7538d3"
   },
   "outputs": [
    {
     "data": {
      "text/html": [
       "<div>\n",
       "<style scoped>\n",
       "    .dataframe tbody tr th:only-of-type {\n",
       "        vertical-align: middle;\n",
       "    }\n",
       "\n",
       "    .dataframe tbody tr th {\n",
       "        vertical-align: top;\n",
       "    }\n",
       "\n",
       "    .dataframe thead th {\n",
       "        text-align: right;\n",
       "    }\n",
       "</style>\n",
       "<table border=\"1\" class=\"dataframe\">\n",
       "  <thead>\n",
       "    <tr style=\"text-align: right;\">\n",
       "      <th></th>\n",
       "      <th>full_text</th>\n",
       "      <th>labels</th>\n",
       "    </tr>\n",
       "  </thead>\n",
       "  <tbody>\n",
       "    <tr>\n",
       "      <th>0</th>\n",
       "      <td>Introducing Salesforce Hyperforce: the world’s...</td>\n",
       "      <td>press releases</td>\n",
       "    </tr>\n",
       "    <tr>\n",
       "      <th>1</th>\n",
       "      <td>Salesforce Introduces Service Cloud Workforce ...</td>\n",
       "      <td>press releases</td>\n",
       "    </tr>\n",
       "  </tbody>\n",
       "</table>\n",
       "</div>"
      ],
      "text/plain": [
       "                                           full_text          labels\n",
       "0  Introducing Salesforce Hyperforce: the world’s...  press releases\n",
       "1  Salesforce Introduces Service Cloud Workforce ...  press releases"
      ]
     },
     "execution_count": 327,
     "metadata": {
      "tags": []
     },
     "output_type": "execute_result"
    }
   ],
   "source": [
    "data.head(2)"
   ]
  },
  {
   "cell_type": "markdown",
   "metadata": {
    "id": "ZZSeEm11SM9Q"
   },
   "source": [
    "## Remove the punctuations and cleaning the tweets a bit:"
   ]
  },
  {
   "cell_type": "code",
   "execution_count": 328,
   "metadata": {
    "id": "Si0ghWkyYQPS"
   },
   "outputs": [],
   "source": [
    "data['cleaned_tweets'] = ''"
   ]
  },
  {
   "cell_type": "code",
   "execution_count": 329,
   "metadata": {
    "id": "o4yx_deEVcLZ"
   },
   "outputs": [],
   "source": [
    "data.full_text = data.full_text.str.replace(r'https\\S+','')\n",
    "data['cleaned_tweets'] = data.full_text.str.replace(r'[^\\w\\s]+', ' ')"
   ]
  },
  {
   "cell_type": "code",
   "execution_count": 330,
   "metadata": {
    "id": "apDKdXvs3rVf"
   },
   "outputs": [],
   "source": [
    "data.cleaned_tweets = data.cleaned_tweets.str.replace('\\d+','')\n",
    "data.cleaned_tweets = data.cleaned_tweets.str.lower()\n",
    "data.cleaned_tweets = data.cleaned_tweets.str.replace('  ',' ')\n"
   ]
  },
  {
   "cell_type": "code",
   "execution_count": 331,
   "metadata": {
    "colab": {
     "base_uri": "https://localhost:8080/",
     "height": 35
    },
    "id": "Eh2e9ZHltT-N",
    "outputId": "2dd3d079-586e-4d1b-ba30-0a9661401057"
   },
   "outputs": [
    {
     "data": {
      "application/vnd.google.colaboratory.intrinsic+json": {
       "type": "string"
      },
      "text/plain": [
       "'the biggest news from dreamforce to you via salesforcenews'"
      ]
     },
     "execution_count": 331,
     "metadata": {
      "tags": []
     },
     "output_type": "execute_result"
    }
   ],
   "source": [
    "data.cleaned_tweets[2]"
   ]
  },
  {
   "cell_type": "code",
   "execution_count": 332,
   "metadata": {
    "colab": {
     "base_uri": "https://localhost:8080/"
    },
    "id": "8bsrSfgruthn",
    "outputId": "13ed8fcb-e513-4d9c-8703-bb03bdc125da"
   },
   "outputs": [
    {
     "data": {
      "text/plain": [
       "array(['press releases', 'case studies'], dtype=object)"
      ]
     },
     "execution_count": 332,
     "metadata": {
      "tags": []
     },
     "output_type": "execute_result"
    }
   ],
   "source": [
    "data.labels.unique()"
   ]
  },
  {
   "cell_type": "code",
   "execution_count": 333,
   "metadata": {
    "id": "QIWLoj0suM11"
   },
   "outputs": [],
   "source": [
    "#Target Label - y \n",
    "y = data.labels\n",
    "\n",
    "y = np.array(list(map(lambda x: 1 if x==\"case studies\" else 0, y))) ## We are encoding case studies as 1 and press releases as 0"
   ]
  },
  {
   "cell_type": "markdown",
   "metadata": {
    "id": "jXhfeqtSEBIc"
   },
   "source": [
    "## We will use BERT's tokenizer and we are using a pre-trained model for English:"
   ]
  },
  {
   "cell_type": "code",
   "execution_count": 334,
   "metadata": {
    "id": "nTpczgvwO3w1"
   },
   "outputs": [],
   "source": [
    "BertTokenizer = bert.bert_tokenization.FullTokenizer\n",
    "bert_layer = hub.KerasLayer(\"https://tfhub.dev/tensorflow/bert_en_uncased_L-12_H-768_A-12/3\", \\\n",
    "                            trainable=False)\n",
    "vocabulary_file = bert_layer.resolved_object.vocab_file.asset_path.numpy()\n",
    "to_lower_case = bert_layer.resolved_object.do_lower_case.numpy()\n",
    "tokenizer = BertTokenizer(vocabulary_file, to_lower_case)"
   ]
  },
  {
   "cell_type": "code",
   "execution_count": 349,
   "metadata": {
    "colab": {
     "base_uri": "https://localhost:8080/",
     "height": 203
    },
    "id": "bueH4Qpslw8H",
    "outputId": "49dd3133-f3d0-4f2d-f37e-ede378b3e209"
   },
   "outputs": [
    {
     "data": {
      "text/html": [
       "<div>\n",
       "<style scoped>\n",
       "    .dataframe tbody tr th:only-of-type {\n",
       "        vertical-align: middle;\n",
       "    }\n",
       "\n",
       "    .dataframe tbody tr th {\n",
       "        vertical-align: top;\n",
       "    }\n",
       "\n",
       "    .dataframe thead th {\n",
       "        text-align: right;\n",
       "    }\n",
       "</style>\n",
       "<table border=\"1\" class=\"dataframe\">\n",
       "  <thead>\n",
       "    <tr style=\"text-align: right;\">\n",
       "      <th></th>\n",
       "      <th>full_text</th>\n",
       "      <th>labels</th>\n",
       "      <th>cleaned_tweets</th>\n",
       "    </tr>\n",
       "  </thead>\n",
       "  <tbody>\n",
       "    <tr>\n",
       "      <th>0</th>\n",
       "      <td>Introducing Salesforce Hyperforce: the world’s...</td>\n",
       "      <td>press releases</td>\n",
       "      <td>introducing salesforce hyperforce the world s ...</td>\n",
       "    </tr>\n",
       "    <tr>\n",
       "      <th>1</th>\n",
       "      <td>Salesforce Introduces Service Cloud Workforce ...</td>\n",
       "      <td>press releases</td>\n",
       "      <td>salesforce introduces service cloud workforce ...</td>\n",
       "    </tr>\n",
       "    <tr>\n",
       "      <th>2</th>\n",
       "      <td>The Biggest News from Dreamforce to You  via @...</td>\n",
       "      <td>case studies</td>\n",
       "      <td>the biggest news from dreamforce to you via sa...</td>\n",
       "    </tr>\n",
       "    <tr>\n",
       "      <th>3</th>\n",
       "      <td>Today we recognize the International Day of Pe...</td>\n",
       "      <td>case studies</td>\n",
       "      <td>today we recognize the international day of pe...</td>\n",
       "    </tr>\n",
       "    <tr>\n",
       "      <th>4</th>\n",
       "      <td>Fortune Names Salesforce a Future 50 Company f...</td>\n",
       "      <td>case studies</td>\n",
       "      <td>fortune names salesforce a future company for ...</td>\n",
       "    </tr>\n",
       "  </tbody>\n",
       "</table>\n",
       "</div>"
      ],
      "text/plain": [
       "                                           full_text  ...                                     cleaned_tweets\n",
       "0  Introducing Salesforce Hyperforce: the world’s...  ...  introducing salesforce hyperforce the world s ...\n",
       "1  Salesforce Introduces Service Cloud Workforce ...  ...  salesforce introduces service cloud workforce ...\n",
       "2  The Biggest News from Dreamforce to You  via @...  ...  the biggest news from dreamforce to you via sa...\n",
       "3  Today we recognize the International Day of Pe...  ...  today we recognize the international day of pe...\n",
       "4  Fortune Names Salesforce a Future 50 Company f...  ...  fortune names salesforce a future company for ...\n",
       "\n",
       "[5 rows x 3 columns]"
      ]
     },
     "execution_count": 349,
     "metadata": {
      "tags": []
     },
     "output_type": "execute_result"
    }
   ],
   "source": [
    "data.head()"
   ]
  },
  {
   "cell_type": "code",
   "execution_count": 350,
   "metadata": {
    "colab": {
     "base_uri": "https://localhost:8080/"
    },
    "id": "uszLtVhhl2OQ",
    "outputId": "4d3e9172-d825-4387-b7a8-ff2fd8ae2bb7"
   },
   "outputs": [
    {
     "data": {
      "text/plain": [
       "[4341, 14821, 13999, 2326, 6112, 14877, 25540, 2050]"
      ]
     },
     "execution_count": 350,
     "metadata": {
      "tags": []
     },
     "output_type": "execute_result"
    }
   ],
   "source": [
    "tokenizer.convert_tokens_to_ids(tokenizer.tokenize(data.cleaned_tweets[1][:50]))"
   ]
  },
  {
   "cell_type": "markdown",
   "metadata": {
    "id": "wc85NTtqnbp3"
   },
   "source": [
    "## Tokenizing the tweets and preprocessing them:"
   ]
  },
  {
   "cell_type": "code",
   "execution_count": 351,
   "metadata": {
    "id": "G2DOSmhToGdE"
   },
   "outputs": [],
   "source": [
    "def tokenize_tweets(text):\n",
    "    return tokenizer.convert_tokens_to_ids(tokenizer.tokenize(text))"
   ]
  },
  {
   "cell_type": "code",
   "execution_count": 352,
   "metadata": {
    "id": "jvpd1VzpoLzH"
   },
   "outputs": [],
   "source": [
    "tokenized_tweets = [tokenize_tweets(tweet) for tweet in data.cleaned_tweets]"
   ]
  },
  {
   "cell_type": "code",
   "execution_count": 353,
   "metadata": {
    "id": "4MTa4Rbvnn9k"
   },
   "outputs": [],
   "source": [
    "tweets_len = [[tweet, y[i], len(tweet)] for i, tweet in enumerate(tokenized_tweets)]"
   ]
  },
  {
   "cell_type": "code",
   "execution_count": 354,
   "metadata": {
    "id": "K2TjCH81n48B"
   },
   "outputs": [],
   "source": [
    "random.shuffle(tweets_len)"
   ]
  },
  {
   "cell_type": "code",
   "execution_count": 355,
   "metadata": {
    "id": "A8IpL3xBpEmx"
   },
   "outputs": [],
   "source": [
    "tweets_len.sort(key=lambda x: x[2])"
   ]
  },
  {
   "cell_type": "code",
   "execution_count": 356,
   "metadata": {
    "id": "Dirhek45pK5T"
   },
   "outputs": [],
   "source": [
    "sorted_tweets_labels = [(tw_label[0], tw_label[1]) for tw_label in tweets_len]"
   ]
  },
  {
   "cell_type": "markdown",
   "metadata": {
    "id": "kHNNUYJqWrde"
   },
   "source": [
    "## Converting tweets data so that it can be used for Tf2.0 models:"
   ]
  },
  {
   "cell_type": "code",
   "execution_count": 357,
   "metadata": {
    "id": "MTFgzAqMpVNU"
   },
   "outputs": [],
   "source": [
    "processed_dataset = tf.data.Dataset.from_generator(lambda: sorted_tweets_labels, output_types=(tf.int32, tf.int32))"
   ]
  },
  {
   "cell_type": "markdown",
   "metadata": {
    "id": "EG3Csm7Yiayb"
   },
   "source": [
    "## We will make batch size of 3 that means that the weights of model will change after every 3 training samples:"
   ]
  },
  {
   "cell_type": "code",
   "execution_count": 358,
   "metadata": {
    "id": "vCcAi1GMpZ6U"
   },
   "outputs": [],
   "source": [
    "BATCH_SIZE = 3\n",
    "batched_dataset = processed_dataset.padded_batch(BATCH_SIZE, padded_shapes=((None, ), ()))"
   ]
  },
  {
   "cell_type": "code",
   "execution_count": 359,
   "metadata": {
    "colab": {
     "base_uri": "https://localhost:8080/"
    },
    "id": "LXruU7Z7pdde",
    "outputId": "a50c274d-e52c-4eb9-ce5d-28bb67cfaf6a"
   },
   "outputs": [
    {
     "data": {
      "text/plain": [
       "(<tf.Tensor: shape=(3, 11), dtype=int32, numpy=\n",
       " array([[ 4341, 14821,  2638,  9333, 13856,  1996,  4256,  8144,  2400,\n",
       "          4791,     0],\n",
       "        [13580,  4328,  4608,  1996,  2327,  5312,  1997,  1040, 11263,\n",
       "          3959, 14821],\n",
       "        [13580,  4328,  4608,  1996,  2327,  5312,  1997,  1040, 11263,\n",
       "          3959, 14821]], dtype=int32)>,\n",
       " <tf.Tensor: shape=(3,), dtype=int32, numpy=array([1, 1, 1], dtype=int32)>)"
      ]
     },
     "execution_count": 359,
     "metadata": {
      "tags": []
     },
     "output_type": "execute_result"
    }
   ],
   "source": [
    "next(iter(batched_dataset))"
   ]
  },
  {
   "cell_type": "code",
   "execution_count": 360,
   "metadata": {
    "id": "SGbXeZJ6pe2a"
   },
   "outputs": [],
   "source": [
    "TOTAL_BATCHES = math.ceil(len(sorted_tweets_labels) / BATCH_SIZE)\n",
    "TEST_BATCHES = TOTAL_BATCHES // 2 ## 50% of data we are taking for testing\n",
    "batched_dataset.shuffle(TOTAL_BATCHES)\n",
    "test_data = batched_dataset.take(TEST_BATCHES)\n",
    "train_data = batched_dataset.skip(TEST_BATCHES)"
   ]
  },
  {
   "cell_type": "code",
   "execution_count": 361,
   "metadata": {
    "colab": {
     "base_uri": "https://localhost:8080/"
    },
    "id": "wjcaRhStsgto",
    "outputId": "19c30791-fe06-495c-e918-b48edc2110c6"
   },
   "outputs": [
    {
     "data": {
      "text/plain": [
       "77"
      ]
     },
     "execution_count": 361,
     "metadata": {
      "tags": []
     },
     "output_type": "execute_result"
    }
   ],
   "source": [
    "TOTAL_BATCHES"
   ]
  },
  {
   "cell_type": "code",
   "execution_count": 362,
   "metadata": {
    "colab": {
     "base_uri": "https://localhost:8080/"
    },
    "id": "DRf9lU2vsjLe",
    "outputId": "8bb035ed-8750-4863-b701-3b0d5b03fd02"
   },
   "outputs": [
    {
     "data": {
      "text/plain": [
       "38"
      ]
     },
     "execution_count": 362,
     "metadata": {
      "tags": []
     },
     "output_type": "execute_result"
    }
   ],
   "source": [
    "TEST_BATCHES"
   ]
  },
  {
   "cell_type": "markdown",
   "metadata": {
    "id": "vx74DsrPgU0K"
   },
   "source": [
    "## Using 3 conv. layers with Global Max pooling with ReLU activation function and Sigmoid outut function since we have 2 output classes:"
   ]
  },
  {
   "cell_type": "code",
   "execution_count": 363,
   "metadata": {
    "id": "NqAfLSX6r0XG"
   },
   "outputs": [],
   "source": [
    "class TEXT_MODEL(tf.keras.Model):\n",
    "    \n",
    "    def __init__(self,\n",
    "                 vocabulary_size,\n",
    "                 embedding_dimensions=128,\n",
    "                 cnn_filters=50,\n",
    "                 dnn_units=512,\n",
    "                 model_output_classes=2,\n",
    "                 dropout_rate=0.1,\n",
    "                 training=False,\n",
    "                 name=\"text_model\"):\n",
    "      \n",
    "        super(TEXT_MODEL, self).__init__(name=name)\n",
    "        \n",
    "        self.embedding = layers.Embedding(vocabulary_size,\n",
    "                                          embedding_dimensions)\n",
    "        self.cnn_layer1 = layers.Conv1D(filters=cnn_filters,\n",
    "                                        kernel_size=2,\n",
    "                                        padding=\"valid\",\n",
    "                                        activation=\"relu\")\n",
    "        self.cnn_layer2 = layers.Conv1D(filters=cnn_filters,\n",
    "                                        kernel_size=3,\n",
    "                                        padding=\"valid\",\n",
    "                                        activation=\"relu\")\n",
    "        self.cnn_layer3 = layers.Conv1D(filters=cnn_filters,\n",
    "                                        kernel_size=4,\n",
    "                                        padding=\"valid\",\n",
    "                                        activation=\"relu\")\n",
    "        self.pool = layers.GlobalMaxPool1D()\n",
    "        \n",
    "        self.dense_1 = layers.Dense(units=dnn_units, activation=\"relu\")\n",
    "        self.dropout = layers.Dropout(rate=dropout_rate)\n",
    "        if model_output_classes == 2:\n",
    "            self.last_dense = layers.Dense(units=1,\n",
    "                                           activation=\"sigmoid\")\n",
    "        else:\n",
    "            self.last_dense = layers.Dense(units=model_output_classes,\n",
    "                                           activation=\"softmax\")\n",
    "    \n",
    "    def call(self, inputs, training):\n",
    "        l = self.embedding(inputs)\n",
    "        l_1 = self.cnn_layer1(l) \n",
    "        l_1 = self.pool(l_1) \n",
    "        l_2 = self.cnn_layer2(l) \n",
    "        l_2 = self.pool(l_2)\n",
    "        l_3 = self.cnn_layer3(l)\n",
    "        l_3 = self.pool(l_3) \n",
    "        \n",
    "        concatenated = tf.concat([l_1, l_2, l_3], axis=-1) # (batch_size, 3 * cnn_filters)\n",
    "        concatenated = self.dense_1(concatenated)\n",
    "        concatenated = self.dropout(concatenated, training)\n",
    "        model_output = self.last_dense(concatenated)\n",
    "        \n",
    "        return model_output"
   ]
  },
  {
   "cell_type": "code",
   "execution_count": 364,
   "metadata": {
    "id": "j5KycN0Mr93W"
   },
   "outputs": [],
   "source": [
    "VOCAB_LENGTH = len(tokenizer.vocab)\n",
    "EMB_DIM = 200\n",
    "CNN_FILTERS = 50\n",
    "DNN_UNITS = 256\n",
    "OUTPUT_CLASSES = 2\n",
    "DROPOUT_RATE = 0.1\n",
    "NB_EPOCHS = 5"
   ]
  },
  {
   "cell_type": "code",
   "execution_count": 365,
   "metadata": {
    "id": "eDxoehgBsAzm"
   },
   "outputs": [],
   "source": [
    "text_model = TEXT_MODEL(vocabulary_size=VOCAB_LENGTH,\n",
    "                        embedding_dimensions=EMB_DIM,\n",
    "                        cnn_filters=CNN_FILTERS,\n",
    "                        dnn_units=DNN_UNITS,\n",
    "                        model_output_classes=OUTPUT_CLASSES,\n",
    "                        dropout_rate=DROPOUT_RATE)"
   ]
  },
  {
   "cell_type": "markdown",
   "metadata": {
    "id": "ear7__Dvg2xU"
   },
   "source": [
    "## We use Adam optimizer and Binary Cross-Entropy as the loss function since ou problem statement is a two-class problem. "
   ]
  },
  {
   "cell_type": "code",
   "execution_count": 366,
   "metadata": {
    "id": "ovO-mmKJsMlj"
   },
   "outputs": [],
   "source": [
    "if OUTPUT_CLASSES == 2:\n",
    "    text_model.compile(loss=\"binary_crossentropy\",\n",
    "                       optimizer=\"adam\",\n",
    "                       metrics=[\"accuracy\"])\n",
    "else:\n",
    "    text_model.compile(loss=\"sparse_categorical_crossentropy\",\n",
    "                       optimizer=\"adam\",\n",
    "                       metrics=[\"sparse_categorical_accuracy\"])"
   ]
  },
  {
   "cell_type": "code",
   "execution_count": 367,
   "metadata": {
    "colab": {
     "base_uri": "https://localhost:8080/"
    },
    "id": "HQSBNoF_sD8v",
    "outputId": "af68b2b1-37fc-4286-dd96-41bbe33f77d6"
   },
   "outputs": [
    {
     "name": "stdout",
     "output_type": "stream",
     "text": [
      "Epoch 1/5\n",
      "39/39 [==============================] - 3s 69ms/step - loss: 0.6031 - accuracy: 0.6207\n",
      "Epoch 2/5\n",
      "39/39 [==============================] - 3s 67ms/step - loss: 0.3240 - accuracy: 0.9569\n",
      "Epoch 3/5\n",
      "39/39 [==============================] - 3s 68ms/step - loss: 0.0725 - accuracy: 0.9914\n",
      "Epoch 4/5\n",
      "39/39 [==============================] - 3s 66ms/step - loss: 0.0146 - accuracy: 1.0000\n",
      "Epoch 5/5\n",
      "39/39 [==============================] - 3s 65ms/step - loss: 0.0028 - accuracy: 1.0000\n"
     ]
    }
   ],
   "source": [
    "train_model = text_model.fit(train_data, epochs=NB_EPOCHS)"
   ]
  },
  {
   "cell_type": "markdown",
   "metadata": {
    "id": "2P_DcdZEhGTr"
   },
   "source": [
    "## Evaluating our model on test data:"
   ]
  },
  {
   "cell_type": "code",
   "execution_count": 368,
   "metadata": {
    "colab": {
     "base_uri": "https://localhost:8080/"
    },
    "id": "zpItVLZTbne7",
    "outputId": "464b9d9c-f2ab-4843-e6bb-31a3b4fbb8d5"
   },
   "outputs": [
    {
     "data": {
      "text/plain": [
       "(<tf.Tensor: shape=(3, 11), dtype=int32, numpy=\n",
       " array([[ 4341, 14821,  2638,  9333, 13856,  1996,  4256,  8144,  2400,\n",
       "          4791,     0],\n",
       "        [13580,  4328,  4608,  1996,  2327,  5312,  1997,  1040, 11263,\n",
       "          3959, 14821],\n",
       "        [13580,  4328,  4608,  1996,  2327,  5312,  1997,  1040, 11263,\n",
       "          3959, 14821]], dtype=int32)>,\n",
       " <tf.Tensor: shape=(3,), dtype=int32, numpy=array([1, 1, 1], dtype=int32)>)"
      ]
     },
     "execution_count": 368,
     "metadata": {
      "tags": []
     },
     "output_type": "execute_result"
    }
   ],
   "source": [
    "next(iter(test_data))"
   ]
  },
  {
   "cell_type": "code",
   "execution_count": 369,
   "metadata": {
    "colab": {
     "base_uri": "https://localhost:8080/"
    },
    "id": "7LVDd4UQsGXF",
    "outputId": "5b5769db-fb51-4101-bd14-926e8f24ee33"
   },
   "outputs": [
    {
     "name": "stdout",
     "output_type": "stream",
     "text": [
      "38/38 [==============================] - 0s 2ms/step - loss: 0.1114 - accuracy: 0.9649\n",
      "[0.11137957125902176, 0.9649122953414917]\n"
     ]
    }
   ],
   "source": [
    "results = text_model.evaluate(test_data)\n",
    "print(results)"
   ]
  },
  {
   "cell_type": "markdown",
   "metadata": {
    "id": "ZD-53EkghLsg"
   },
   "source": [
    "## We observe that the model accuracy is ~96% on test data."
   ]
  },
  {
   "cell_type": "markdown",
   "metadata": {
    "id": "UZlZz_athuYx"
   },
   "source": [
    "## Conclusion:<br>We need to scrape more tweets as our training model seems to have over-fitted a bit. With more data our model would be more generalized. So, for 230 rows, our training model seems to give 100% accuracy with testing model giving ~96% accuracy.\n"
   ]
  }
 ],
 "metadata": {
  "colab": {
   "collapsed_sections": [],
   "name": "Part_II_Classifier.ipynb",
   "provenance": []
  },
  "kernelspec": {
   "display_name": "Python 3",
   "language": "python",
   "name": "python3"
  },
  "language_info": {
   "codemirror_mode": {
    "name": "ipython",
    "version": 3
   },
   "file_extension": ".py",
   "mimetype": "text/x-python",
   "name": "python",
   "nbconvert_exporter": "python",
   "pygments_lexer": "ipython3",
   "version": "3.7.6"
  }
 },
 "nbformat": 4,
 "nbformat_minor": 1
}
