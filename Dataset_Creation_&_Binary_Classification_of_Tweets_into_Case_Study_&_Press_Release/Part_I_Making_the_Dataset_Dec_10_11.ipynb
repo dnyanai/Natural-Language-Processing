{
 "cells": [
  {
   "cell_type": "markdown",
   "metadata": {
    "id": "Vh9o0rOQpXnh"
   },
   "source": [
    "## Dnyanai Surkutwar <br><ol><li>[Part I: Creating Dataset](#part1)</li><li>[Part II: Data Preprocessing](#part1)</li><li>[Part III: Extracting data from PDFs or web scrape the site's content](#part3)</li><li>[Part IV: Clean the extracted text](#part4)</li>"
   ]
  },
  {
   "cell_type": "markdown",
   "metadata": {
    "id": "xVlIKFEYpXnq"
   },
   "source": [
    "## Importing libraries"
   ]
  },
  {
   "cell_type": "code",
   "execution_count": null,
   "metadata": {
    "id": "o0_gIML6pXnq"
   },
   "outputs": [],
   "source": [
    "import pandas as pd \n",
    "import tweepy as tw \n",
    "\n",
    "## For Web Scraping:\n",
    "from bs4 import BeautifulSoup\n",
    "import numpy as np \n",
    "from time import sleep \n",
    "from random import randint\n",
    "from selenium import webdriver\n",
    "import requests"
   ]
  },
  {
   "cell_type": "markdown",
   "metadata": {
    "id": "uLezto5ypXnr"
   },
   "source": [
    "# Table of Content: "
   ]
  },
  {
   "cell_type": "markdown",
   "metadata": {
    "id": "0E8C6FhrpXns"
   },
   "source": [
    "1.[Extracting Tweets from Twitter user - @SalesforceNews](#tweepy) <br>\n",
    "   * [Setting up twitter app authentication](#tweepy)\n",
    "   * [Creating API object](#auth)\n",
    "   * [Collecting tweets](#collect)\n",
    "   * [Extracting relevant information from the tweets](#extract)\n",
    "   * [Creating Dataframe of extracted tweets](#df)\n",
    "   * [Extracting labels and articles](#labels) <br>\n",
    "   * [GetLabels and GetArticles Functions](#fns)<br>\n",
    "   * [Pickling dataset](#pkl)<br>"
   ]
  },
  {
   "cell_type": "markdown",
   "metadata": {
    "id": "_x068BYlpXns"
   },
   "source": [
    "<a id = 'tweepy'></a>\n",
    "# Extracting tweets using tweepy"
   ]
  },
  {
   "cell_type": "code",
   "execution_count": null,
   "metadata": {
    "id": "_5hWNuIwpXnt"
   },
   "outputs": [],
   "source": [
    "#Authentication for twitter:\n",
    "consumer_key= 'aaa'\n",
    "consumer_secret= 'dd'\n",
    "access_token= 'dd'\n",
    "token_secret= 'dd'"
   ]
  },
  {
   "cell_type": "markdown",
   "metadata": {
    "id": "N_g56oU8pXnu"
   },
   "source": [
    "<a id = 'auth'></a>\n",
    "## Creating API object:"
   ]
  },
  {
   "cell_type": "code",
   "execution_count": null,
   "metadata": {
    "id": "R8nfvEcfpXnu"
   },
   "outputs": [],
   "source": [
    "auth = tw.OAuthHandler(consumer_key, consumer_secret)\n",
    "auth.set_access_token(access_token, token_secret)\n",
    "\n",
    "api = tw.API(auth, wait_on_rate_limit=True)"
   ]
  },
  {
   "cell_type": "code",
   "execution_count": null,
   "metadata": {
    "id": "EXQ1x2o6pXnv"
   },
   "outputs": [],
   "source": [
    "screen_name = 'SalesforceNews'"
   ]
  },
  {
   "cell_type": "markdown",
   "metadata": {
    "id": "9LlYVCwLpXnv"
   },
   "source": [
    "<a id='collect'></a>\n",
    "## Collecting tweets"
   ]
  },
  {
   "cell_type": "code",
   "execution_count": null,
   "metadata": {
    "id": "nflXCO4ppXnv"
   },
   "outputs": [],
   "source": [
    "output = [status._json for status in tw.Cursor(api.search, q='SalesforceNews -filter:retweets',\\\n",
    "                                                count=100, tweet_mode='extended', include_entities=True, lang='en').items()]"
   ]
  },
  {
   "cell_type": "code",
   "execution_count": null,
   "metadata": {
    "id": "jgOp-aAOpXnw"
   },
   "outputs": [],
   "source": [
    "#import pickle\n",
    "#filename = 'tweets_100_Dec_3.pkl'\n",
    "#out = open(filename,'wb')\n",
    "#pickle.dump(output,out)\n",
    "#out.close()"
   ]
  },
  {
   "cell_type": "code",
   "execution_count": null,
   "metadata": {
    "colab": {
     "base_uri": "https://localhost:8080/"
    },
    "id": "5tA_l4E2pXnw",
    "outputId": "3b3f7a26-52d1-49dc-8511-554a68d1864b"
   },
   "outputs": [
    {
     "data": {
      "text/plain": [
       "[]"
      ]
     },
     "execution_count": 39,
     "metadata": {
      "tags": []
     },
     "output_type": "execute_result"
    }
   ],
   "source": [
    "output[2]['entities']['urls']"
   ]
  },
  {
   "cell_type": "markdown",
   "metadata": {
    "id": "1nLSs6hFpXny"
   },
   "source": [
    "<a id='extract'></a>\n",
    "## Extracting the relevant information from the tweets"
   ]
  },
  {
   "cell_type": "code",
   "execution_count": null,
   "metadata": {
    "id": "wVvJAX7dpXny"
   },
   "outputs": [],
   "source": [
    "full_text = []   ## saving the tweet text in a list\n",
    "post_url = []    ## saving the urls in a list \n",
    "tw_id = []       ## saving the tweet id in a list\n",
    "\n",
    "for each in output:\n",
    "    tw_id.append(each['id_str'])\n",
    "    full_text.append(each['full_text'])\n",
    "    post_url.append(each['entities']['urls'])"
   ]
  },
  {
   "cell_type": "code",
   "execution_count": null,
   "metadata": {
    "id": "x1T2c0E0pXny"
   },
   "outputs": [],
   "source": [
    "#post_url[0][0]['display_url'] ## testing different keys in the urls "
   ]
  },
  {
   "cell_type": "code",
   "execution_count": null,
   "metadata": {
    "colab": {
     "base_uri": "https://localhost:8080/"
    },
    "id": "Yjwa4ZTIpXny",
    "outputId": "49a25dc3-68c5-4926-8feb-2d438e97e788"
   },
   "outputs": [
    {
     "data": {
      "text/plain": [
       "['',\n",
       " 'salesforce.com/news/stories/s…',\n",
       " '',\n",
       " 'twitter.com/SalesforceNews…',\n",
       " 'sforce.co/3oH7mIA']"
      ]
     },
     "execution_count": 42,
     "metadata": {
      "tags": []
     },
     "output_type": "execute_result"
    }
   ],
   "source": [
    "#post_url[0][0]['expanded_url']  ## We need the expanded url\n",
    "urls = []   ## creating new list to save expanded urls only\n",
    "disp_urls = [] ## we might get more information from display urls too, so creating a new list for that\n",
    "\n",
    "for i in range(len(post_url)):\n",
    "    #print(post_url[i])\n",
    "    if post_url[i] != []:\n",
    "        urls.append(post_url[i][0]['expanded_url'])\n",
    "        disp_urls.append(post_url[i][0]['display_url'])\n",
    "    else:\n",
    "        urls.append('')\n",
    "        disp_urls.append('')\n",
    "disp_urls[:5]"
   ]
  },
  {
   "cell_type": "code",
   "execution_count": null,
   "metadata": {
    "colab": {
     "base_uri": "https://localhost:8080/",
     "height": 53
    },
    "id": "oaER2tnGpXnz",
    "outputId": "7c6dea47-d025-4fbe-fb5e-dac27858b9ab"
   },
   "outputs": [
    {
     "data": {
      "application/vnd.google.colaboratory.intrinsic+json": {
       "type": "string"
      },
      "text/plain": [
       "\"As #COVID19 continues to disrupt the food system, we're working together to strengthen our food system’s connective tissue \\n@OUSDNews @SalesforceNews @eatlearnplay\\n@WCKitchen @numifoundationt @FullHarvestTech @MandelaPartners @UberFreight\""
      ]
     },
     "execution_count": 43,
     "metadata": {
      "tags": []
     },
     "output_type": "execute_result"
    }
   ],
   "source": [
    "full_text[2]"
   ]
  },
  {
   "cell_type": "markdown",
   "metadata": {
    "id": "LDsR1ECNpXnz"
   },
   "source": [
    "<a id='#df'></a>\n",
    "## Creating a Dataset dataframe from the collected tweets: "
   ]
  },
  {
   "cell_type": "code",
   "execution_count": null,
   "metadata": {
    "id": "nyn1nxCYpXn0"
   },
   "outputs": [],
   "source": [
    "data = {'tweet_id': tw_id, 'full_text':full_text, 'url':urls, 'disp_url':disp_urls}\n",
    "\n",
    "df_salesforce = pd.DataFrame(data=data)"
   ]
  },
  {
   "cell_type": "code",
   "execution_count": null,
   "metadata": {
    "colab": {
     "base_uri": "https://localhost:8080/",
     "height": 203
    },
    "id": "x_eHP6xgpXn0",
    "outputId": "130db5bc-ded0-43f8-d292-3199ceb73401"
   },
   "outputs": [
    {
     "data": {
      "text/html": [
       "<div>\n",
       "<style scoped>\n",
       "    .dataframe tbody tr th:only-of-type {\n",
       "        vertical-align: middle;\n",
       "    }\n",
       "\n",
       "    .dataframe tbody tr th {\n",
       "        vertical-align: top;\n",
       "    }\n",
       "\n",
       "    .dataframe thead th {\n",
       "        text-align: right;\n",
       "    }\n",
       "</style>\n",
       "<table border=\"1\" class=\"dataframe\">\n",
       "  <thead>\n",
       "    <tr style=\"text-align: right;\">\n",
       "      <th></th>\n",
       "      <th>tweet_id</th>\n",
       "      <th>full_text</th>\n",
       "      <th>url</th>\n",
       "      <th>disp_url</th>\n",
       "    </tr>\n",
       "  </thead>\n",
       "  <tbody>\n",
       "    <tr>\n",
       "      <th>0</th>\n",
       "      <td>1337280322011078656</td>\n",
       "      <td>@SalesforceNews Hi I have a question Salesforc...</td>\n",
       "      <td></td>\n",
       "      <td></td>\n",
       "    </tr>\n",
       "    <tr>\n",
       "      <th>1</th>\n",
       "      <td>1337265529875271682</td>\n",
       "      <td>Salesforce’s Wade Wegner on the Growth of Mode...</td>\n",
       "      <td>https://www.salesforce.com/news/stories/salesf...</td>\n",
       "      <td>salesforce.com/news/stories/s…</td>\n",
       "    </tr>\n",
       "    <tr>\n",
       "      <th>2</th>\n",
       "      <td>1337189264296054784</td>\n",
       "      <td>As #COVID19 continues to disrupt the food syst...</td>\n",
       "      <td></td>\n",
       "      <td></td>\n",
       "    </tr>\n",
       "    <tr>\n",
       "      <th>3</th>\n",
       "      <td>1337119482074943489</td>\n",
       "      <td>Got to talk to some really smart people doing ...</td>\n",
       "      <td>https://twitter.com/SalesforceNews/status/1337...</td>\n",
       "      <td>twitter.com/SalesforceNews…</td>\n",
       "    </tr>\n",
       "    <tr>\n",
       "      <th>4</th>\n",
       "      <td>1337092473877884929</td>\n",
       "      <td>.@CDCFound is at the forefront of COVID-19 rel...</td>\n",
       "      <td>https://sforce.co/3oH7mIA</td>\n",
       "      <td>sforce.co/3oH7mIA</td>\n",
       "    </tr>\n",
       "  </tbody>\n",
       "</table>\n",
       "</div>"
      ],
      "text/plain": [
       "              tweet_id  ...                        disp_url\n",
       "0  1337280322011078656  ...                                \n",
       "1  1337265529875271682  ...  salesforce.com/news/stories/s…\n",
       "2  1337189264296054784  ...                                \n",
       "3  1337119482074943489  ...     twitter.com/SalesforceNews…\n",
       "4  1337092473877884929  ...               sforce.co/3oH7mIA\n",
       "\n",
       "[5 rows x 4 columns]"
      ]
     },
     "execution_count": 45,
     "metadata": {
      "tags": []
     },
     "output_type": "execute_result"
    }
   ],
   "source": [
    "df_salesforce.head()"
   ]
  },
  {
   "cell_type": "markdown",
   "metadata": {
    "id": "YX1wRyVdpXn0"
   },
   "source": [
    "## Creating labels based on the url redirect -> stories: Case Studies, press-releases : Press Releases. This is specific to Salesforce. "
   ]
  },
  {
   "cell_type": "markdown",
   "metadata": {
    "id": "kBVz2DmqpXn1"
   },
   "source": [
    "## Some of the urls are not straightforward so we will use requests package to ping them and see their url address, to check if they can be categorized into 'case studies' or 'press release': "
   ]
  },
  {
   "cell_type": "code",
   "execution_count": null,
   "metadata": {
    "colab": {
     "base_uri": "https://localhost:8080/"
    },
    "id": "u_5hHyT3pXn3",
    "outputId": "7a55b601-6d95-427a-884c-0faaacc7f4e6"
   },
   "outputs": [
    {
     "data": {
      "text/plain": [
       "True"
      ]
     },
     "execution_count": 46,
     "metadata": {
      "tags": []
     },
     "output_type": "execute_result"
    }
   ],
   "source": [
    "'stories' in 'https://www.salesforce.com/news/stories/the-bi'"
   ]
  },
  {
   "cell_type": "code",
   "execution_count": null,
   "metadata": {
    "colab": {
     "base_uri": "https://localhost:8080/",
     "height": 203
    },
    "id": "jSlRMZTPxbbh",
    "outputId": "91b47278-1086-4eb8-8333-f8a9b930ff85"
   },
   "outputs": [
    {
     "data": {
      "text/html": [
       "<div>\n",
       "<style scoped>\n",
       "    .dataframe tbody tr th:only-of-type {\n",
       "        vertical-align: middle;\n",
       "    }\n",
       "\n",
       "    .dataframe tbody tr th {\n",
       "        vertical-align: top;\n",
       "    }\n",
       "\n",
       "    .dataframe thead th {\n",
       "        text-align: right;\n",
       "    }\n",
       "</style>\n",
       "<table border=\"1\" class=\"dataframe\">\n",
       "  <thead>\n",
       "    <tr style=\"text-align: right;\">\n",
       "      <th></th>\n",
       "      <th>tweet_id</th>\n",
       "      <th>full_text</th>\n",
       "      <th>url</th>\n",
       "      <th>disp_url</th>\n",
       "    </tr>\n",
       "  </thead>\n",
       "  <tbody>\n",
       "    <tr>\n",
       "      <th>0</th>\n",
       "      <td>1337280322011078656</td>\n",
       "      <td>@SalesforceNews Hi I have a question Salesforc...</td>\n",
       "      <td></td>\n",
       "      <td></td>\n",
       "    </tr>\n",
       "    <tr>\n",
       "      <th>1</th>\n",
       "      <td>1337265529875271682</td>\n",
       "      <td>Salesforce’s Wade Wegner on the Growth of Mode...</td>\n",
       "      <td>https://www.salesforce.com/news/stories/salesf...</td>\n",
       "      <td>salesforce.com/news/stories/s…</td>\n",
       "    </tr>\n",
       "    <tr>\n",
       "      <th>2</th>\n",
       "      <td>1337189264296054784</td>\n",
       "      <td>As #COVID19 continues to disrupt the food syst...</td>\n",
       "      <td></td>\n",
       "      <td></td>\n",
       "    </tr>\n",
       "    <tr>\n",
       "      <th>3</th>\n",
       "      <td>1337119482074943489</td>\n",
       "      <td>Got to talk to some really smart people doing ...</td>\n",
       "      <td>https://twitter.com/SalesforceNews/status/1337...</td>\n",
       "      <td>twitter.com/SalesforceNews…</td>\n",
       "    </tr>\n",
       "    <tr>\n",
       "      <th>4</th>\n",
       "      <td>1337092473877884929</td>\n",
       "      <td>.@CDCFound is at the forefront of COVID-19 rel...</td>\n",
       "      <td>https://sforce.co/3oH7mIA</td>\n",
       "      <td>sforce.co/3oH7mIA</td>\n",
       "    </tr>\n",
       "  </tbody>\n",
       "</table>\n",
       "</div>"
      ],
      "text/plain": [
       "              tweet_id  ...                        disp_url\n",
       "0  1337280322011078656  ...                                \n",
       "1  1337265529875271682  ...  salesforce.com/news/stories/s…\n",
       "2  1337189264296054784  ...                                \n",
       "3  1337119482074943489  ...     twitter.com/SalesforceNews…\n",
       "4  1337092473877884929  ...               sforce.co/3oH7mIA\n",
       "\n",
       "[5 rows x 4 columns]"
      ]
     },
     "execution_count": 47,
     "metadata": {
      "tags": []
     },
     "output_type": "execute_result"
    }
   ],
   "source": [
    "df_salesforce.head()"
   ]
  },
  {
   "cell_type": "code",
   "execution_count": null,
   "metadata": {
    "id": "-CDtWiw9AMk7"
   },
   "outputs": [],
   "source": [
    "df_salesforce['labels'] = ''"
   ]
  },
  {
   "cell_type": "code",
   "execution_count": null,
   "metadata": {
    "id": "7QIf4BloT5IP"
   },
   "outputs": [],
   "source": [
    "df_salesforce['articles'] = ''"
   ]
  },
  {
   "cell_type": "markdown",
   "metadata": {
    "id": "gsxNEKC5MtIS"
   },
   "source": [
    "<a id='labels'></a>\n",
    "## Extracting Labels and Articles "
   ]
  },
  {
   "cell_type": "code",
   "execution_count": null,
   "metadata": {
    "id": "3kfmaBTxBhg-"
   },
   "outputs": [],
   "source": [
    "## Using Selenium - Powerful tool but thought for this requests would be enough ##\n",
    "## Installing Selenium:\n",
    "#!pip install selenium\n",
    "\n",
    "## Getting the chromedriver to work for selenium: \n",
    "#!apt-get update \n",
    "#!apt install chromium-chromedriver\n",
    "#!which chromedriver\n",
    "\n",
    "#!cp /usr/lib/chromium-browser/chromedriver /usr/bin\n",
    "#import sys\n",
    "#sys.path.insert(0,'/usr/lib/chromium-browser/chromedriver')\n",
    "\n",
    "#from selenium import webdriver \n",
    "\n",
    "#chrome_options = webdriver.ChromeOptions()\n",
    "  #chrome_options.add_argument('--headless')\n",
    "  #chrome_options.add_argument('--no-sandbox')\n",
    "  #chrome_options.add_argument('--disable-dev-shm-usage')\n",
    "  \n",
    "  \n",
    "  #driver = webdriver.Chrome('chromedriver',options=chrome_options)\n",
    "  #article = BeautifulSoup(driver.page_source,'html.parser') # get the aricle from the url  "
   ]
  },
  {
   "cell_type": "markdown",
   "metadata": {
    "id": "uYcCCenQKsJp"
   },
   "source": [
    "## Performing following web scraping steps to extract labels as well as articles:\n",
    "1. Using BeautifulSoup to scrap \n",
    "2. Using requests to get the html page for each url. \n",
    "3. Extracting labels in the labels column\n",
    "4. Extracting articles on the url in articles column, if it exists. "
   ]
  },
  {
   "cell_type": "code",
   "execution_count": null,
   "metadata": {
    "colab": {
     "base_uri": "https://localhost:8080/"
    },
    "id": "gKe_DSOWTHna",
    "outputId": "72e3bd4b-7762-4f07-d2c0-eba156fe70b2"
   },
   "outputs": [
    {
     "data": {
      "text/plain": [
       "0                                                     \n",
       "1    https://www.salesforce.com/news/stories/salesf...\n",
       "Name: url, dtype: object"
      ]
     },
     "execution_count": 51,
     "metadata": {
      "tags": []
     },
     "output_type": "execute_result"
    }
   ],
   "source": [
    "df_salesforce.url[:2]"
   ]
  },
  {
   "cell_type": "code",
   "execution_count": null,
   "metadata": {
    "colab": {
     "base_uri": "https://localhost:8080/",
     "height": 35
    },
    "id": "BdQFcneVByQ5",
    "outputId": "c530be48-c0a9-49d2-8306-ddb793a30c7c"
   },
   "outputs": [
    {
     "data": {
      "application/vnd.google.colaboratory.intrinsic+json": {
       "type": "string"
      },
      "text/plain": [
       "'case studies'"
      ]
     },
     "execution_count": 163,
     "metadata": {
      "tags": []
     },
     "output_type": "execute_result"
    }
   ],
   "source": [
    "df_salesforce['labels'].loc[df_salesforce.url=='https://sforce.co/3oH7mIA'].values[0]"
   ]
  },
  {
   "cell_type": "code",
   "execution_count": null,
   "metadata": {
    "id": "qk5WFxq6y651"
   },
   "outputs": [],
   "source": [
    "## Installing Selenium:\n",
    "!pip install selenium\n",
    "\n",
    "## Getting the chromedriver to work for selenium: \n",
    "!apt-get update \n",
    "!apt install chromium-chromedriver\n",
    "!which chromedriver"
   ]
  },
  {
   "cell_type": "markdown",
   "metadata": {
    "id": "o89reyPLGkBi"
   },
   "source": [
    "<a id='fns'></a>\n",
    "## Functions to getArticles and Labels for the particular url:"
   ]
  },
  {
   "cell_type": "code",
   "execution_count": null,
   "metadata": {
    "id": "VLWlAXRX8-p_"
   },
   "outputs": [],
   "source": [
    "## Get Articles function,\n",
    "def getArticles(url):\n",
    "\n",
    "  if url !='':\n",
    "    #print(url)\n",
    "    res = requests.get(url)\n",
    "    soup = BeautifulSoup(res.content, \"html.parser\")\n",
    "\n",
    "    if df_salesforce.articles.loc[df_salesforce.url==url] is not None:\n",
    "      df_salesforce.articles.loc[df_salesforce.url==url] = (soup.section.text)\n",
    "    else:\n",
    "      pass"
   ]
  },
  {
   "cell_type": "code",
   "execution_count": 162,
   "metadata": {
    "id": "ZGqBUelFh_4M"
   },
   "outputs": [],
   "source": [
    "## Get Labels function,\n",
    "def getLabels(link,article):\n",
    " \n",
    "    check_url = [item.get('href') for item in article.find_all(\"link\", attrs={\"rel\": \"canonical\"})] # some of the urls are not complete thus\n",
    "                                                                                                 # we are taking the urls from scraping the \n",
    "                                                                                                 # attribute rel called as canonical which \n",
    "\n",
    "    #print(check_url)\n",
    "\n",
    "  ## If the url is empty then continue or add labels to dataframe based on the website's href response:\n",
    "\n",
    "    if len(check_url)!=0:                                                        ## Making sure the length of the url is not 0 i.e. empty:\n",
    "        if check_url[0] is None:\n",
    "            pass\n",
    "      \n",
    "        if 'stories' in check_url[0]:\n",
    "            if df_salesforce['labels'].loc[df_salesforce.url==link].values[0] == '':   \n",
    "              df_salesforce['labels'].loc[df_salesforce.url==link] = 'case studies'\n",
    "              getArticles(check_url[0])\n",
    "            print('stories')\n",
    "\n",
    "        if 'press-releases' in check_url[0]:\n",
    "            if df_salesforce['labels'].loc[df_salesforce.url==link].values[0] == '':   \n",
    "              df_salesforce['labels'].loc[df_salesforce.url==link] = 'press releases'\n",
    "            getArticles(check_url[0])\n",
    "            print('pr')"
   ]
  },
  {
   "cell_type": "markdown",
   "metadata": {
    "id": "WVX-jdZEG5cT"
   },
   "source": [
    "## Main function to go the task of extracting labels and the respective url articles:"
   ]
  },
  {
   "cell_type": "code",
   "execution_count": 179,
   "metadata": {
    "colab": {
     "base_uri": "https://localhost:8080/"
    },
    "id": "WvT3VOgsiYUD",
    "outputId": "203be0ae-22f7-4280-bcd1-82196ef83847"
   },
   "outputs": [
    {
     "name": "stdout",
     "output_type": "stream",
     "text": [
      "['https://www.salesforce.com/news/stories/salesforces-wade-wegner-on-the-growth-of-modern-app-development-in-2021/']\n",
      "https://www.salesforce.com/news/stories/salesforces-wade-wegner-on-the-growth-of-modern-app-development-in-2021/\n",
      "stories\n",
      "['https://twitter.com/salesforcenews/status/1337072131260084225', 'https://twitter.com/SalesforceNews/status/1337072131260084225']\n",
      "['https://www.salesforce.com/news/stories/cdc-foundation-fundraising-and-initiatives/']\n",
      "https://www.salesforce.com/news/stories/cdc-foundation-fundraising-and-initiatives/\n",
      "stories\n",
      "['https://www.salesforce.com/news/stories/salesforce-and-eat-learn-play-announce-new-partners-funding-and-scope-of-pilot-program-to-address-food-insecurity-in-the-bay-area/']\n",
      "https://www.salesforce.com/news/stories/salesforce-and-eat-learn-play-announce-new-partners-funding-and-scope-of-pilot-program-to-address-food-insecurity-in-the-bay-area/\n",
      "stories\n",
      "['https://www.salesforce.com/news/stories/salesforce-ai-breast-cancer/']\n",
      "https://www.salesforce.com/news/stories/salesforce-ai-breast-cancer/\n",
      "stories\n",
      "['https://www.salesforce.com/news/stories/salesforce-ai-breast-cancer/']\n",
      "https://www.salesforce.com/news/stories/salesforce-ai-breast-cancer/\n",
      "stories\n",
      "['https://www.salesforce.com/news/stories/salesforce-executives-predict-the-future-of-work-in-2021-and-beyond/']\n",
      "https://www.salesforce.com/news/stories/salesforce-executives-predict-the-future-of-work-in-2021-and-beyond/\n",
      "stories\n",
      "['https://www.salesforce.com/news/stories/salesforce-executives-predict-the-future-of-work-in-2021-and-beyond/']\n",
      "https://www.salesforce.com/news/stories/salesforce-executives-predict-the-future-of-work-in-2021-and-beyond/\n",
      "stories\n",
      "['https://www.salesforce.com/news/stories/financial-services-leaders/']\n",
      "https://www.salesforce.com/news/stories/financial-services-leaders/\n",
      "stories\n",
      "['https://www.metazoa.com/courses/metazoa-snapshot-certifications/']\n",
      "['https://www.salesforce.com/news/stories/salesforces-wade-wegner-on-the-growth-of-modern-app-development-in-2021/']\n",
      "https://www.salesforce.com/news/stories/salesforces-wade-wegner-on-the-growth-of-modern-app-development-in-2021/\n",
      "stories\n",
      "['https://www.salesforce.com/news/press-releases/2020/12/02/introducing-salesforce-hyperforce/']\n",
      "https://www.salesforce.com/news/press-releases/2020/12/02/introducing-salesforce-hyperforce/\n",
      "pr\n",
      "['https://www.salesforce.com/news/stories/4th-state-of-service/']\n",
      "https://www.salesforce.com/news/stories/4th-state-of-service/\n",
      "stories\n",
      "['https://www.salesforce.com/news/stories/salesforces-wade-wegner-on-the-growth-of-modern-app-development-in-2021/']\n",
      "https://www.salesforce.com/news/stories/salesforces-wade-wegner-on-the-growth-of-modern-app-development-in-2021/\n",
      "stories\n",
      "['https://www.salesforce.com/news/stories/customer-centricity-index/']\n",
      "https://www.salesforce.com/news/stories/customer-centricity-index/\n",
      "stories\n",
      "['https://www.salesforce.com/news/stories/financial-services-leaders/']\n",
      "https://www.salesforce.com/news/stories/financial-services-leaders/\n",
      "stories\n",
      "['https://www.varindia.com/best-online-pc-magazines-in-india.html', 'https://www.varindia.com/online-computer-magazine.html', 'https://www.varindia.com/it-magazine-in-india.html ', 'https://www.varindia.com/frontline-it-magazines.html ', 'https://www.varindia.com/', 'https://varindia.com/news/salesforce-to-acquire-acumen-solutions-to-enhance-the-reach']\n",
      "['https://www.salesforce.com/news/stories/why-were-investing-in-automation/']\n",
      "https://www.salesforce.com/news/stories/why-were-investing-in-automation/\n",
      "stories\n",
      "['https://www.salesforce.com/news/stories/4th-state-of-service/']\n",
      "https://www.salesforce.com/news/stories/4th-state-of-service/\n",
      "stories\n",
      "['https://twitter.com/home']\n",
      "['https://www.salesforce.com/news/stories/4th-state-of-service/']\n",
      "https://www.salesforce.com/news/stories/4th-state-of-service/\n",
      "stories\n",
      "['https://www.salesforce.com/news/stories/4th-state-of-service/']\n",
      "https://www.salesforce.com/news/stories/4th-state-of-service/\n",
      "stories\n",
      "[]\n",
      "[]\n",
      "['https://www.salesforce.com/news/stories/financial-services-leaders/']\n",
      "https://www.salesforce.com/news/stories/financial-services-leaders/\n",
      "stories\n",
      "['https://www.zdnet.com/article/salesforce-creating-opportunities-for-people-with-disabilities-is-crucial-for-business-success/']\n",
      "['https://www.salesforce.com/news/stories/the-biggest-news-of-dreamforce-to-you/']\n",
      "https://www.salesforce.com/news/stories/the-biggest-news-of-dreamforce-to-you/\n",
      "stories\n",
      "['https://www.salesforce.com/news/stories/dreamforce-to-you-keynote-recap/']\n",
      "https://www.salesforce.com/news/stories/dreamforce-to-you-keynote-recap/\n",
      "stories\n",
      "['https://www.salesforce.com/news/stories/fortune-names-salesforce-a-future-50-company-for-the-fourth-year-in-a-row/']\n",
      "https://www.salesforce.com/news/stories/fortune-names-salesforce-a-future-50-company-for-the-fourth-year-in-a-row/\n",
      "stories\n",
      "['https://www.salesforce.com/news/stories/fortune-names-salesforce-a-future-50-company-for-the-fourth-year-in-a-row/']\n",
      "https://www.salesforce.com/news/stories/fortune-names-salesforce-a-future-50-company-for-the-fourth-year-in-a-row/\n",
      "stories\n",
      "['https://www.salesforce.com/news/stories/salesforce-services-platform-update/']\n",
      "https://www.salesforce.com/news/stories/salesforce-services-platform-update/\n",
      "stories\n",
      "['https://www.youtube.com/watch?v=GSkjjmTyDbo']\n",
      "['https://www.salesforce.com/news/press-releases/2020/12/01/salesforce-definitive-agreement-update/']\n",
      "https://www.salesforce.com/news/press-releases/2020/12/01/salesforce-definitive-agreement-update/\n",
      "pr\n",
      "['https://www.youtube.com/watch?v=GSkjjmTyDbo']\n",
      "['https://www.salesforce.com/news/stories/the-biggest-news-of-dreamforce-to-you/']\n",
      "https://www.salesforce.com/news/stories/the-biggest-news-of-dreamforce-to-you/\n",
      "stories\n",
      "['https://www.salesforce.com/news/stories/dreamforce-to-you-2020/']\n",
      "https://www.salesforce.com/news/stories/dreamforce-to-you-2020/\n",
      "stories\n",
      "['https://www.salesforce.com/news/press-releases/2020/12/02/introducing-salesforce-hyperforce/']\n",
      "https://www.salesforce.com/news/press-releases/2020/12/02/introducing-salesforce-hyperforce/\n",
      "pr\n",
      "['https://www.salesforce.com/news/press-releases/2020/12/02/service-cloud-workforce-engagement/']\n",
      "https://www.salesforce.com/news/press-releases/2020/12/02/service-cloud-workforce-engagement/\n",
      "pr\n",
      "['https://www.salesforce.com/news/stories/the-biggest-news-of-dreamforce-to-you/']\n",
      "https://www.salesforce.com/news/stories/the-biggest-news-of-dreamforce-to-you/\n",
      "stories\n",
      "['https://twitter.com/i/moments/1334581347143331843', 'https://twitter.com/i/events/1334581347143331843']\n",
      "['https://www.salesforce.com/news/stories/salesforce-recognizes-2020-international-day-of-people-with-disabilities/']\n",
      "https://www.salesforce.com/news/stories/salesforce-recognizes-2020-international-day-of-people-with-disabilities/\n",
      "stories\n",
      "['https://www.salesforce.com/news/stories/fortune-names-salesforce-a-future-50-company-for-the-fourth-year-in-a-row/']\n",
      "https://www.salesforce.com/news/stories/fortune-names-salesforce-a-future-50-company-for-the-fourth-year-in-a-row/\n",
      "stories\n",
      "['https://www.salesforce.com/news/press-releases/2020/12/02/service-cloud-workforce-engagement/']\n",
      "https://www.salesforce.com/news/press-releases/2020/12/02/service-cloud-workforce-engagement/\n",
      "pr\n",
      "['https://www.salesforce.com/news/press-releases/2020/12/02/introducing-salesforce-hyperforce/']\n",
      "https://www.salesforce.com/news/press-releases/2020/12/02/introducing-salesforce-hyperforce/\n",
      "pr\n",
      "['https://techcrunch.com/2020/12/02/with-hyperforce-salesforce-lets-you-move-your-data-to-any-public-cloud/']\n",
      "['https://www.techrepublic.com/article/salesforce-pushes-into-customer-service-staff-management-with-service-cloud-workforce-engagement/']\n",
      "['https://techcrunch.com/2020/12/02/salesforce-announces-new-service-cloud-workforce-planning-tool/']\n",
      "['https://www.salesforce.com/news/stories/fortune-names-salesforce-a-future-50-company-for-the-fourth-year-in-a-row/']\n",
      "https://www.salesforce.com/news/stories/fortune-names-salesforce-a-future-50-company-for-the-fourth-year-in-a-row/\n",
      "stories\n",
      "['https://www.salesforce.com/news/press-releases/2020/12/02/service-cloud-workforce-engagement/']\n",
      "https://www.salesforce.com/news/press-releases/2020/12/02/service-cloud-workforce-engagement/\n",
      "pr\n",
      "['https://www.salesforce.com/news/press-releases/2020/12/02/introducing-salesforce-hyperforce/']\n",
      "https://www.salesforce.com/news/press-releases/2020/12/02/introducing-salesforce-hyperforce/\n",
      "pr\n",
      "['https://www.salesforce.org/']\n",
      "['https://twitter.com/salesforcenews/status/1334177291304271872', 'https://twitter.com/SalesforceNews/status/1334177291304271872']\n",
      "['https://twitter.com/salesforcenews/status/1334177291304271872']\n",
      "['https://www.salesforce.com/news/stories/dreamforce-to-you-keynote-recap/']\n",
      "https://www.salesforce.com/news/stories/dreamforce-to-you-keynote-recap/\n",
      "stories\n",
      "['https://www.salesforce.com/news/press-releases/2020/12/02/introducing-salesforce-hyperforce/']\n",
      "https://www.salesforce.com/news/press-releases/2020/12/02/introducing-salesforce-hyperforce/\n",
      "pr\n",
      "['https://www.salesforce.com/news/stories/why-were-investing-in-automation/']\n",
      "https://www.salesforce.com/news/stories/why-were-investing-in-automation/\n",
      "stories\n",
      "['https://www.salesforce.com/news/press-releases/2020/12/02/introducing-salesforce-hyperforce/']\n",
      "https://www.salesforce.com/news/press-releases/2020/12/02/introducing-salesforce-hyperforce/\n",
      "pr\n",
      "['https://www.salesforce.com/news/press-releases/2020/12/02/introducing-salesforce-hyperforce/']\n",
      "https://www.salesforce.com/news/press-releases/2020/12/02/introducing-salesforce-hyperforce/\n",
      "pr\n",
      "['https://www.salesforce.com/news/press-releases/2020/12/01/salesforce-definitive-agreement-update/']\n",
      "https://www.salesforce.com/news/press-releases/2020/12/01/salesforce-definitive-agreement-update/\n",
      "pr\n",
      "['https://www.salesforce.com/news/press-releases/2020/12/02/introducing-salesforce-einstein-automate/']\n",
      "https://www.salesforce.com/news/press-releases/2020/12/02/introducing-salesforce-einstein-automate/\n",
      "pr\n",
      "['https://www.salesforce.com/news/press-releases/2020/12/02/introducing-salesforce-hyperforce/']\n",
      "https://www.salesforce.com/news/press-releases/2020/12/02/introducing-salesforce-hyperforce/\n",
      "pr\n",
      "['https://www.salesforce.com/news/press-releases/2020/12/02/introducing-salesforce-einstein-automate/']\n",
      "https://www.salesforce.com/news/press-releases/2020/12/02/introducing-salesforce-einstein-automate/\n",
      "pr\n",
      "['https://www.salesforce.com/news/stories/why-were-investing-in-automation/']\n",
      "https://www.salesforce.com/news/stories/why-were-investing-in-automation/\n",
      "stories\n",
      "['https://www.salesforce.com/news/stories/dreamforce-to-you-keynote-recap/']\n",
      "https://www.salesforce.com/news/stories/dreamforce-to-you-keynote-recap/\n",
      "stories\n",
      "['https://www.salesforce.com/news/stories/the-biggest-news-of-dreamforce-to-you/']\n",
      "https://www.salesforce.com/news/stories/the-biggest-news-of-dreamforce-to-you/\n",
      "stories\n",
      "['https://www.salesforce.com/news/stories/the-biggest-news-of-dreamforce-to-you/']\n",
      "https://www.salesforce.com/news/stories/the-biggest-news-of-dreamforce-to-you/\n",
      "stories\n",
      "['https://www.salesforce.com/news/press-releases/2020/12/01/salesforce-definitive-agreement-update/']\n",
      "https://www.salesforce.com/news/press-releases/2020/12/01/salesforce-definitive-agreement-update/\n",
      "pr\n",
      "['https://www.salesforce.com/news/stories/dreamforce-to-you-keynote-recap/']\n",
      "https://www.salesforce.com/news/stories/dreamforce-to-you-keynote-recap/\n",
      "stories\n",
      "['https://www.salesforce.com/news/press-releases/2020/12/01/salesforce-definitive-agreement-update/']\n",
      "https://www.salesforce.com/news/press-releases/2020/12/01/salesforce-definitive-agreement-update/\n",
      "pr\n",
      "['https://www.salesforce.com/news/stories/salesforce-services-platform-update/']\n",
      "https://www.salesforce.com/news/stories/salesforce-services-platform-update/\n",
      "stories\n",
      "['https://www.salesforce.com/news/stories/the-biggest-news-of-dreamforce-to-you/']\n",
      "https://www.salesforce.com/news/stories/the-biggest-news-of-dreamforce-to-you/\n",
      "stories\n",
      "['https://www.salesforce.com/news/stories/salesforce-services-platform-update/']\n",
      "https://www.salesforce.com/news/stories/salesforce-services-platform-update/\n",
      "stories\n",
      "['https://www.salesforce.com/news/press-releases/2020/12/02/introducing-salesforce-hyperforce/']\n",
      "https://www.salesforce.com/news/press-releases/2020/12/02/introducing-salesforce-hyperforce/\n",
      "pr\n",
      "['https://www.salesforce.com/news/stories/salesforce-services-platform-update/']\n",
      "https://www.salesforce.com/news/stories/salesforce-services-platform-update/\n",
      "stories\n",
      "['https://www.salesforce.com/news/press-releases/2020/12/02/introducing-salesforce-hyperforce/']\n",
      "https://www.salesforce.com/news/press-releases/2020/12/02/introducing-salesforce-hyperforce/\n",
      "pr\n",
      "['https://www.salesforce.com/news/press-releases/2020/12/02/introducing-salesforce-hyperforce/']\n",
      "https://www.salesforce.com/news/press-releases/2020/12/02/introducing-salesforce-hyperforce/\n",
      "pr\n",
      "['https://www.salesforce.com/news/press-releases/2020/12/02/introducing-salesforce-hyperforce/']\n",
      "https://www.salesforce.com/news/press-releases/2020/12/02/introducing-salesforce-hyperforce/\n",
      "pr\n",
      "['https://www.salesforce.com/news/press-releases/2020/12/02/introducing-salesforce-hyperforce/']\n",
      "https://www.salesforce.com/news/press-releases/2020/12/02/introducing-salesforce-hyperforce/\n",
      "pr\n",
      "['https://www.salesforce.com/news/press-releases/2020/12/02/introducing-salesforce-hyperforce/']\n",
      "https://www.salesforce.com/news/press-releases/2020/12/02/introducing-salesforce-hyperforce/\n",
      "pr\n",
      "['https://www.salesforce.com/news/press-releases/2020/12/01/salesforce-definitive-agreement-update/']\n",
      "https://www.salesforce.com/news/press-releases/2020/12/01/salesforce-definitive-agreement-update/\n",
      "pr\n",
      "['https://www.salesforce.com/news/stories/salesforce-services-platform-update/']\n",
      "https://www.salesforce.com/news/stories/salesforce-services-platform-update/\n",
      "stories\n",
      "['https://www.salesforce.com/news/stories/announcing-the-2020-partner-innovation-award-winners/']\n",
      "https://www.salesforce.com/news/stories/announcing-the-2020-partner-innovation-award-winners/\n",
      "stories\n",
      "['https://www.salesforce.com/news/press-releases/2020/12/01/salesforce-definitive-agreement-update/']\n",
      "https://www.salesforce.com/news/press-releases/2020/12/01/salesforce-definitive-agreement-update/\n",
      "pr\n",
      "['https://www.salesforce.com/news/press-releases/2020/12/02/introducing-salesforce-hyperforce/']\n",
      "https://www.salesforce.com/news/press-releases/2020/12/02/introducing-salesforce-hyperforce/\n",
      "pr\n",
      "['https://www.salesforce.com/news/stories/introducing-revenue-cloud/']\n",
      "https://www.salesforce.com/news/stories/introducing-revenue-cloud/\n",
      "stories\n",
      "['https://www.salesforce.com/news/press-releases/2020/12/02/introducing-salesforce-hyperforce/']\n",
      "https://www.salesforce.com/news/press-releases/2020/12/02/introducing-salesforce-hyperforce/\n",
      "pr\n",
      "['https://www.salesforce.com/news/press-releases/2020/12/01/salesforce-definitive-agreement-update/']\n",
      "https://www.salesforce.com/news/press-releases/2020/12/01/salesforce-definitive-agreement-update/\n",
      "pr\n",
      "['https://www.salesforce.com/news/stories/why-salesforce-is-entering-the-workforce-management-market/']\n",
      "https://www.salesforce.com/news/stories/why-salesforce-is-entering-the-workforce-management-market/\n",
      "stories\n",
      "['https://www.salesforce.com/news/press-releases/2020/12/02/service-cloud-workforce-engagement/']\n",
      "https://www.salesforce.com/news/press-releases/2020/12/02/service-cloud-workforce-engagement/\n",
      "pr\n",
      "['https://www.salesforce.com/news/press-releases/2020/12/02/introducing-salesforce-hyperforce/']\n",
      "https://www.salesforce.com/news/press-releases/2020/12/02/introducing-salesforce-hyperforce/\n",
      "pr\n",
      "['https://www.salesforce.com/news/press-releases/2020/12/02/bentley-motors-reimagines-the-future-of-luxury-mobility-experiences-with-salesforce/']\n",
      "https://www.salesforce.com/news/press-releases/2020/12/02/bentley-motors-reimagines-the-future-of-luxury-mobility-experiences-with-salesforce/\n",
      "pr\n",
      "['https://www.salesforce.com/news/stories/salesforce-services-platform-update/']\n",
      "https://www.salesforce.com/news/stories/salesforce-services-platform-update/\n",
      "stories\n",
      "['https://www.salesforce.com/news/stories/salesforce-executives-predict-the-future-of-work-in-2021-and-beyond/']\n",
      "https://www.salesforce.com/news/stories/salesforce-executives-predict-the-future-of-work-in-2021-and-beyond/\n",
      "stories\n",
      "['https://smestreet.in/limelight/salesforce-introduces-einstein-automate-increase-the-speed-of-workflow-automation/']\n",
      "['https://www.salesforce.com/news/stories/why-salesforce-is-entering-the-workforce-management-market/']\n",
      "https://www.salesforce.com/news/stories/why-salesforce-is-entering-the-workforce-management-market/\n",
      "stories\n",
      "['https://www.salesforce.com/news/press-releases/2020/12/02/service-cloud-workforce-engagement/']\n",
      "https://www.salesforce.com/news/press-releases/2020/12/02/service-cloud-workforce-engagement/\n",
      "pr\n",
      "['https://www.salesforce.com/news/stories/why-were-investing-in-automation/']\n",
      "https://www.salesforce.com/news/stories/why-were-investing-in-automation/\n",
      "stories\n",
      "['https://www.whitridge.com/news/match-made-heaven-salesforce-buying-slack-shape-future-enterprise-software']\n",
      "['https://www.salesforce.com/news/stories/einstein-automate-qa-with-john-kucera/']\n",
      "https://www.salesforce.com/news/stories/einstein-automate-qa-with-john-kucera/\n",
      "stories\n",
      "['https://www.salesforce.com/news/press-releases/2020/12/02/introducing-salesforce-einstein-automate/']\n",
      "https://www.salesforce.com/news/press-releases/2020/12/02/introducing-salesforce-einstein-automate/\n",
      "pr\n",
      "['https://www.salesforce.com/news/press-releases/2020/12/02/introducing-salesforce-hyperforce/']\n",
      "https://www.salesforce.com/news/press-releases/2020/12/02/introducing-salesforce-hyperforce/\n",
      "pr\n",
      "['https://www.salesforce.com/news/stories/salesforce-services-platform-update/']\n",
      "https://www.salesforce.com/news/stories/salesforce-services-platform-update/\n",
      "stories\n",
      "['https://www.salesforce.com/news/stories/the-biggest-news-of-dreamforce-to-you/']\n",
      "https://www.salesforce.com/news/stories/the-biggest-news-of-dreamforce-to-you/\n",
      "stories\n",
      "['https://www.salesforce.com/news/press-releases/2020/12/02/introducing-salesforce-hyperforce/']\n",
      "https://www.salesforce.com/news/press-releases/2020/12/02/introducing-salesforce-hyperforce/\n",
      "pr\n",
      "['https://www.salesforce.com/news/press-releases/2020/12/01/salesforce-definitive-agreement-update/']\n",
      "https://www.salesforce.com/news/press-releases/2020/12/01/salesforce-definitive-agreement-update/\n",
      "pr\n",
      "['https://www.salesforce.com/news/press-releases/2020/12/02/introducing-salesforce-hyperforce/']\n",
      "https://www.salesforce.com/news/press-releases/2020/12/02/introducing-salesforce-hyperforce/\n",
      "pr\n",
      "['https://www.salesforce.com/news/press-releases/2020/12/01/salesforce-definitive-agreement-update/']\n",
      "https://www.salesforce.com/news/press-releases/2020/12/01/salesforce-definitive-agreement-update/\n",
      "pr\n"
     ]
    }
   ],
   "source": [
    "def main():\n",
    "\n",
    "  chrome_options = webdriver.ChromeOptions()\n",
    "  chrome_options.add_argument('--headless')\n",
    "  chrome_options.add_argument('--no-sandbox')\n",
    "  chrome_options.add_argument('--disable-dev-shm-usage')\n",
    "\n",
    "  driver = webdriver.Chrome('chromedriver',options=chrome_options)\n",
    "\n",
    "  \n",
    "  for url in df_salesforce.url:\n",
    "    if url == '':\n",
    "      pass\n",
    "      \n",
    "    else:\n",
    "        driver.get(url)\n",
    "\n",
    "        sleep(randint(0,3)) ## do nothing [0,3] seconds\n",
    "\n",
    "        article = BeautifulSoup(driver.page_source,'html.parser')\n",
    "\n",
    "        getLabels(url,article)\n",
    "        #driver.close()\n",
    "        \n",
    "if __name__ == '__main__':\n",
    "  main()"
   ]
  },
  {
   "cell_type": "code",
   "execution_count": 180,
   "metadata": {
    "colab": {
     "base_uri": "https://localhost:8080/",
     "height": 306
    },
    "id": "kt_F2sUp0e3-",
    "outputId": "8bae7a1c-c29c-4642-cfce-f629fb700575"
   },
   "outputs": [
    {
     "data": {
      "text/html": [
       "<div>\n",
       "<style scoped>\n",
       "    .dataframe tbody tr th:only-of-type {\n",
       "        vertical-align: middle;\n",
       "    }\n",
       "\n",
       "    .dataframe tbody tr th {\n",
       "        vertical-align: top;\n",
       "    }\n",
       "\n",
       "    .dataframe thead th {\n",
       "        text-align: right;\n",
       "    }\n",
       "</style>\n",
       "<table border=\"1\" class=\"dataframe\">\n",
       "  <thead>\n",
       "    <tr style=\"text-align: right;\">\n",
       "      <th></th>\n",
       "      <th>tweet_id</th>\n",
       "      <th>full_text</th>\n",
       "      <th>url</th>\n",
       "      <th>disp_url</th>\n",
       "      <th>labels</th>\n",
       "      <th>articles</th>\n",
       "    </tr>\n",
       "  </thead>\n",
       "  <tbody>\n",
       "    <tr>\n",
       "      <th>0</th>\n",
       "      <td>1337280322011078656</td>\n",
       "      <td>@SalesforceNews Hi I have a question Salesforc...</td>\n",
       "      <td></td>\n",
       "      <td></td>\n",
       "      <td></td>\n",
       "      <td></td>\n",
       "    </tr>\n",
       "    <tr>\n",
       "      <th>1</th>\n",
       "      <td>1337265529875271682</td>\n",
       "      <td>Salesforce’s Wade Wegner on the Growth of Mode...</td>\n",
       "      <td>https://www.salesforce.com/news/stories/salesf...</td>\n",
       "      <td>salesforce.com/news/stories/s…</td>\n",
       "      <td>case studies</td>\n",
       "      <td>\\n\\nCompanies across industries and regions ar...</td>\n",
       "    </tr>\n",
       "    <tr>\n",
       "      <th>2</th>\n",
       "      <td>1337189264296054784</td>\n",
       "      <td>As #COVID19 continues to disrupt the food syst...</td>\n",
       "      <td></td>\n",
       "      <td></td>\n",
       "      <td></td>\n",
       "      <td></td>\n",
       "    </tr>\n",
       "    <tr>\n",
       "      <th>3</th>\n",
       "      <td>1337119482074943489</td>\n",
       "      <td>Got to talk to some really smart people doing ...</td>\n",
       "      <td>https://twitter.com/SalesforceNews/status/1337...</td>\n",
       "      <td>twitter.com/SalesforceNews…</td>\n",
       "      <td></td>\n",
       "      <td></td>\n",
       "    </tr>\n",
       "    <tr>\n",
       "      <th>4</th>\n",
       "      <td>1337092473877884929</td>\n",
       "      <td>.@CDCFound is at the forefront of COVID-19 rel...</td>\n",
       "      <td>https://sforce.co/3oH7mIA</td>\n",
       "      <td>sforce.co/3oH7mIA</td>\n",
       "      <td>case studies</td>\n",
       "      <td></td>\n",
       "    </tr>\n",
       "  </tbody>\n",
       "</table>\n",
       "</div>"
      ],
      "text/plain": [
       "              tweet_id  ...                                           articles\n",
       "0  1337280322011078656  ...                                                   \n",
       "1  1337265529875271682  ...  \\n\\nCompanies across industries and regions ar...\n",
       "2  1337189264296054784  ...                                                   \n",
       "3  1337119482074943489  ...                                                   \n",
       "4  1337092473877884929  ...                                                   \n",
       "\n",
       "[5 rows x 6 columns]"
      ]
     },
     "execution_count": 180,
     "metadata": {
      "tags": []
     },
     "output_type": "execute_result"
    }
   ],
   "source": [
    "df_salesforce.head()"
   ]
  },
  {
   "cell_type": "code",
   "execution_count": 181,
   "metadata": {
    "id": "CHHE4rGB3BMM"
   },
   "outputs": [],
   "source": [
    "#pd.set_option('max.rows',None)\n",
    "\n",
    "#df_salesforce.to_csv('dataset.csv')"
   ]
  },
  {
   "cell_type": "code",
   "execution_count": 182,
   "metadata": {
    "id": "1Z4hFt51djZN"
   },
   "outputs": [],
   "source": [
    "#df_salesforce.to_csv('tweets_Salesforce_articles.csv')"
   ]
  },
  {
   "cell_type": "markdown",
   "metadata": {
    "id": "d3HG2N6ULbWO"
   },
   "source": [
    "## Checking how many empty rows we have: "
   ]
  },
  {
   "cell_type": "code",
   "execution_count": 183,
   "metadata": {
    "colab": {
     "base_uri": "https://localhost:8080/"
    },
    "id": "0deVSnMHpXn3",
    "outputId": "57e69845-e6bf-4d65-93b2-ef57fdae76b4"
   },
   "outputs": [
    {
     "data": {
      "text/plain": [
       "32"
      ]
     },
     "execution_count": 183,
     "metadata": {
      "tags": []
     },
     "output_type": "execute_result"
    }
   ],
   "source": [
    "len(df_salesforce[df_salesforce.labels==''])"
   ]
  },
  {
   "cell_type": "code",
   "execution_count": 184,
   "metadata": {
    "colab": {
     "base_uri": "https://localhost:8080/"
    },
    "id": "oiDMjIzypXn4",
    "outputId": "a3d55854-7496-407d-def3-038b72aff5a0"
   },
   "outputs": [
    {
     "data": {
      "text/plain": [
       "121"
      ]
     },
     "execution_count": 184,
     "metadata": {
      "tags": []
     },
     "output_type": "execute_result"
    }
   ],
   "source": [
    "len(df_salesforce)"
   ]
  },
  {
   "cell_type": "code",
   "execution_count": 196,
   "metadata": {
    "colab": {
     "base_uri": "https://localhost:8080/"
    },
    "id": "hwAIW5kmJFb4",
    "outputId": "80659101-7599-4572-8400-c38d1d703138"
   },
   "outputs": [
    {
     "name": "stdout",
     "output_type": "stream",
     "text": [
      "Overall we have 73.55 % of labels which are divided into case studies and press releases\n"
     ]
    }
   ],
   "source": [
    "print('Overall we have',round(((121-32)/121)*100,2),'% of labels which are divided into case studies and press releases')"
   ]
  },
  {
   "cell_type": "code",
   "execution_count": 185,
   "metadata": {
    "colab": {
     "base_uri": "https://localhost:8080/"
    },
    "id": "_82pWTtfJN2l",
    "outputId": "363f3dbf-efb1-4ed9-b8d9-c89b1499920c"
   },
   "outputs": [
    {
     "data": {
      "text/plain": [
       "121"
      ]
     },
     "execution_count": 185,
     "metadata": {
      "tags": []
     },
     "output_type": "execute_result"
    }
   ],
   "source": [
    "len(df_salesforce.articles)"
   ]
  },
  {
   "cell_type": "code",
   "execution_count": 209,
   "metadata": {
    "colab": {
     "base_uri": "https://localhost:8080/"
    },
    "id": "BfaHDjy9pXn4",
    "outputId": "636f7318-c1c8-4569-ce44-19284cc4a38c"
   },
   "outputs": [
    {
     "data": {
      "text/plain": [
       "89"
      ]
     },
     "execution_count": 209,
     "metadata": {
      "tags": []
     },
     "output_type": "execute_result"
    }
   ],
   "source": [
    "121-32"
   ]
  },
  {
   "cell_type": "code",
   "execution_count": 211,
   "metadata": {
    "colab": {
     "base_uri": "https://localhost:8080/"
    },
    "id": "Qs_uJDdKX_-y",
    "outputId": "1b997b0d-137e-41fc-82e0-6f38d1bec505"
   },
   "outputs": [
    {
     "data": {
      "text/plain": [
       "17"
      ]
     },
     "execution_count": 211,
     "metadata": {
      "tags": []
     },
     "output_type": "execute_result"
    }
   ],
   "source": [
    "len(df_salesforce[df_salesforce.articles==''])-32"
   ]
  },
  {
   "cell_type": "code",
   "execution_count": 213,
   "metadata": {
    "colab": {
     "base_uri": "https://localhost:8080/"
    },
    "id": "rpbvsdZHX1e4",
    "outputId": "9de09ab6-d43d-450f-abe0-9bf0429fc4d3"
   },
   "outputs": [
    {
     "data": {
      "text/plain": [
       "89"
      ]
     },
     "execution_count": 213,
     "metadata": {
      "tags": []
     },
     "output_type": "execute_result"
    }
   ],
   "source": [
    "121-32"
   ]
  },
  {
   "cell_type": "code",
   "execution_count": 215,
   "metadata": {
    "colab": {
     "base_uri": "https://localhost:8080/"
    },
    "id": "eqyD7W9MJfct",
    "outputId": "5a7c95f2-6d85-4922-88a6-88a1a723d54d"
   },
   "outputs": [
    {
     "name": "stdout",
     "output_type": "stream",
     "text": [
      "Overall we have 80.9 % of articles which are divided into case studies and press releases\n"
     ]
    }
   ],
   "source": [
    "print('Overall we have',round(((89-17)/89)*100,2),'% of articles which are divided into case studies and press releases')"
   ]
  },
  {
   "cell_type": "markdown",
   "metadata": {
    "id": "bVtnUjHJNDZE"
   },
   "source": [
    "<a id='clean'></a>\n",
    "## Cleaning articles in the dataframe: "
   ]
  },
  {
   "cell_type": "code",
   "execution_count": 197,
   "metadata": {
    "colab": {
     "base_uri": "https://localhost:8080/",
     "height": 968
    },
    "id": "kDVdUSkiPGdN",
    "outputId": "ae4c201e-4a63-42ea-f0dc-f72def1e56b6"
   },
   "outputs": [
    {
     "data": {
      "application/vnd.google.colaboratory.intrinsic+json": {
       "type": "string"
      },
      "text/plain": [
       "'\\n\\nCompanies across industries and regions are looking to accelerate their digital transformations in the face of the pandemic. This makes the software developer’s role all the more crucial to the success of the business, as developers will largely be responsible for building the apps and processes that help their organizations bridge the divide, remain connected to their customers, and stay relevant in this digital-first world.\\nThis only works if they have the right platform to be successful though, and that includes everything from pro-code tools for building B2C scale consumer apps, to low-code declarative tools for quickly building business processes.\\xa0\\nToday’s developers expect languages, tools, and seamless deployment options that span the entire range of skills, from low-code app builder to full stack developer. And, with demand for developers slated to grow 22% annually between now and 2029, this growing need will make it even more important for companies to provide the right tools to utilize all of their developer resources.\\nWe caught up with Wade Wegner, SVP of Developer Platform at Salesforce, to chat about how developers are responding to the pandemic, and what companies can do to ensure they have the right developer resources heading into 2021 and beyond.\\nQ. Hi Wade. First off, tell us a bit about what you do at Salesforce.\\nI am responsible for our developer platform at Salesforce. This includes the runtimes, languages, tools, environments, and data services that our developers use to build applications on the Salesforce Platform. My teams also build the DevOps (a combo of development and IT operations) pipelines both pro and low code developers use to deploy and manage their production applications.\\nQ. How has the software developer’s role changed in the face of COVID-19? How has the software community responded to the pandemic?\\xa0\\nThis year has been challenging for the developer community given the shift to a digital-first world, a shift that has made the developer’s role even more important as it increases the potential and need for software to have a meaningful impact. This provides both a challenge and opportunity for developers who, for better or worse, are now being asked to do more with less time and resources.\\nA great example of this is what we did with work.com, our suite of products for helping customers tackle the pandemic. To build work.com, our developer teams had to rapidly shift away from the work we were doing to focus on a new set of challenges, and to do so while we simultaneously transitioned to an all-new remote work environment. When we built work.com, we shrank the product development cycle from months to weeks, to ensure we got these products in our customers’ hands as soon as was humanly possible.\\nThe Salesforce Platform is tailor-made to handle a crisis.\\xa0Wade Wegner\\nQ. How is Salesforce helping software developers respond to the pandemic?\\nThankfully, Salesforce takes a modern approach to app software development that prioritizes helping developers deliver fast value to customers, so I suppose you could say the Salesforce Platform is tailor-made to handle a crisis.\\xa0\\nAlong these lines, workflow and process automation was one particular area we have increased focus on (you’ll see we just launched Einstein Automate), as this enables developers to quickly digitize and automate what were previously time-consuming, arduous processes for customers – things like applying for permits or obtaining replacement credit cards.\\xa0\\nAnother area we doubled down on was making teams more successful through collaboration, and so we’ve been improving our DevOps and release management capabilities. With our platform, both low-code and programmatic (or pro-code) developers can collaborate more effectively than ever, despite being holed up at home and fully remote. This enables us to ship products faster than ever, and continuously update and improve them once shipped.\\nQ. How would you define modern app development, and how is Salesforce uniquely placed to deliver this for developers?\\nMore and more, the larger tech community — from executives to rank and file developers to industry analysts —is recognizing the value of low-code app development as an effective approach to building and shipping applications, given that it abstracts out the complexity behind building apps, lets the developer be more productive and focus on innovating fast, and ultimately reduces the cost of software over time.\\nModern app development is largely based on this low-code approach, but I believe it’s more nuanced than that, involving a combination of both low and pro code. Modern app development is a philosophy that leads with low-code tools and capabilities, but with native ways to let the developer easily tap into pro-code (i.e. writing code) tools to extend and customize the apps they’re building. And for this modern app development approach to work, both the low-code and pro-code tools should live within the same application model, which lets the developer toggle back and forth as needed and avoid the need for time-consuming and expensive integrations.\\nIn most cases, low-code app development can get you all, or almost all, the way there. But there will inevitably be times that you need to do something that is highly unique or customized like running complex financial calculations. When that time comes, the developer will need access to an elastic platform that can scale to B2C levels, one that offers the best of open source tools and commonly used programming languages.\\xa0\\nThis explains a lot of the investments we’ve been making in the Salesforce Platform – everything from low-code innovations that help business users create modern apps with drag and drop tools, to new pro-code tools for building, scaling and shipping apps fast.\\nQ. If I am the CIO or head of IT, what should I be thinking about heading into 2021?\\nAutomation is going to be even bigger next year and beyond, so IT leaders should be thinking about how they can automate with low-code platforms. And I’m not just talking about automating business workflows – if IT can also automate the software release pipeline, it will increase their ability to continuously deliver in the context of both low and pro code. And if you can automate the testing process along the way, you can minimize the introduction of bugs in your software development process. Do this, and everyone wins – the developer, the organization, and the end customer.\\nQ. What skills should developers be looking to build to ensure they stay marketable heading into next year?\\nI’ve been thinking a lot about this concept of infrastructure as code, the idea that developers can impact not just the software they are developing, but the underlying infrastructure. For example, developers can now control the number of servers their software is running on, and configure those servers accordingly.\\xa0\\nI’m not saying every developer needs to know how to do this, but as more and more software moves to public cloud (on that note, check out our recent announcement of Salesforce Hyperforce), developers should at least be aware that they have the ability to define what that underlying infrastructure will look like.\\nQ. Where can people go to learn more about what resources Salesforce has for developers?\\xa0\\nI’d encourage everyone to attend DreamTX, a four-day global event that kicks off December 14. There will be a ton of content and workshops geared towards developers, and — in true Salesforce fashion — we’ll also have a number of thought leadership sessions hosted by special guests.\\nYou can also tune into free live and on-demand content on Trailhead LIVE to learn more about modern app development, and more.\\n\\nShare\\n\\n\\nShare on Email\\n\\n\\n\\n\\n\\nShare on Twitter\\n\\n\\n\\n\\n\\nShare on Facebook\\n\\n\\n\\n\\n\\nShare on LinkedIn\\n\\n\\n\\n\\n\\nTags\\n\\n\\t\\t\\t\\tAppExchange\\t\\t\\t\\n\\n\\t\\t\\t\\tInnovation\\t\\t\\t\\n\\n\\t\\t\\t\\tSnapshots\\t\\t\\t\\n\\n'"
      ]
     },
     "execution_count": 197,
     "metadata": {
      "tags": []
     },
     "output_type": "execute_result"
    }
   ],
   "source": [
    "df_salesforce.articles[1]"
   ]
  },
  {
   "cell_type": "code",
   "execution_count": 198,
   "metadata": {
    "id": "HND30GJONA54"
   },
   "outputs": [],
   "source": [
    "df_salesforce.articles = df_salesforce.articles.str.replace('\\n','')\n",
    "df_salesforce.articles = df_salesforce.articles.str.replace('\\t','')\n",
    "df_salesforce.articles = df_salesforce.articles.str.replace('\\xa0','')"
   ]
  },
  {
   "cell_type": "code",
   "execution_count": 200,
   "metadata": {
    "colab": {
     "base_uri": "https://localhost:8080/",
     "height": 933
    },
    "id": "w7rgLBYWNTVH",
    "outputId": "833ab6ad-f6ea-43bc-8a94-93853418c01a"
   },
   "outputs": [
    {
     "data": {
      "application/vnd.google.colaboratory.intrinsic+json": {
       "type": "string"
      },
      "text/plain": [
       "'Companies across industries and regions are looking to accelerate their digital transformations in the face of the pandemic. This makes the software developer’s role all the more crucial to the success of the business, as developers will largely be responsible for building the apps and processes that help their organizations bridge the divide, remain connected to their customers, and stay relevant in this digital-first world.This only works if they have the right platform to be successful though, and that includes everything from pro-code tools for building B2C scale consumer apps, to low-code declarative tools for quickly building business processes.Today’s developers expect languages, tools, and seamless deployment options that span the entire range of skills, from low-code app builder to full stack developer. And, with demand for developers slated to grow 22% annually between now and 2029, this growing need will make it even more important for companies to provide the right tools to utilize all of their developer resources.We caught up with Wade Wegner, SVP of Developer Platform at Salesforce, to chat about how developers are responding to the pandemic, and what companies can do to ensure they have the right developer resources heading into 2021 and beyond.Q. Hi Wade. First off, tell us a bit about what you do at Salesforce.I am responsible for our developer platform at Salesforce. This includes the runtimes, languages, tools, environments, and data services that our developers use to build applications on the Salesforce Platform. My teams also build the DevOps (a combo of development and IT operations) pipelines both pro and low code developers use to deploy and manage their production applications.Q. How has the software developer’s role changed in the face of COVID-19? How has the software community responded to the pandemic?This year has been challenging for the developer community given the shift to a digital-first world, a shift that has made the developer’s role even more important as it increases the potential and need for software to have a meaningful impact. This provides both a challenge and opportunity for developers who, for better or worse, are now being asked to do more with less time and resources.A great example of this is what we did with work.com, our suite of products for helping customers tackle the pandemic. To build work.com, our developer teams had to rapidly shift away from the work we were doing to focus on a new set of challenges, and to do so while we simultaneously transitioned to an all-new remote work environment. When we built work.com, we shrank the product development cycle from months to weeks, to ensure we got these products in our customers’ hands as soon as was humanly possible.The Salesforce Platform is tailor-made to handle a crisis.Wade WegnerQ. How is Salesforce helping software developers respond to the pandemic?Thankfully, Salesforce takes a modern approach to app software development that prioritizes helping developers deliver fast value to customers, so I suppose you could say the Salesforce Platform is tailor-made to handle a crisis.Along these lines, workflow and process automation was one particular area we have increased focus on (you’ll see we just launched Einstein Automate), as this enables developers to quickly digitize and automate what were previously time-consuming, arduous processes for customers – things like applying for permits or obtaining replacement credit cards.Another area we doubled down on was making teams more successful through collaboration, and so we’ve been improving our DevOps and release management capabilities. With our platform, both low-code and programmatic (or pro-code) developers can collaborate more effectively than ever, despite being holed up at home and fully remote. This enables us to ship products faster than ever, and continuously update and improve them once shipped.Q. How would you define modern app development, and how is Salesforce uniquely placed to deliver this for developers?More and more, the larger tech community — from executives to rank and file developers to industry analysts —is recognizing the value of low-code app development as an effective approach to building and shipping applications, given that it abstracts out the complexity behind building apps, lets the developer be more productive and focus on innovating fast, and ultimately reduces the cost of software over time.Modern app development is largely based on this low-code approach, but I believe it’s more nuanced than that, involving a combination of both low and pro code. Modern app development is a philosophy that leads with low-code tools and capabilities, but with native ways to let the developer easily tap into pro-code (i.e. writing code) tools to extend and customize the apps they’re building. And for this modern app development approach to work, both the low-code and pro-code tools should live within the same application model, which lets the developer toggle back and forth as needed and avoid the need for time-consuming and expensive integrations.In most cases, low-code app development can get you all, or almost all, the way there. But there will inevitably be times that you need to do something that is highly unique or customized like running complex financial calculations. When that time comes, the developer will need access to an elastic platform that can scale to B2C levels, one that offers the best of open source tools and commonly used programming languages.This explains a lot of the investments we’ve been making in the Salesforce Platform – everything from low-code innovations that help business users create modern apps with drag and drop tools, to new pro-code tools for building, scaling and shipping apps fast.Q. If I am the CIO or head of IT, what should I be thinking about heading into 2021?Automation is going to be even bigger next year and beyond, so IT leaders should be thinking about how they can automate with low-code platforms. And I’m not just talking about automating business workflows – if IT can also automate the software release pipeline, it will increase their ability to continuously deliver in the context of both low and pro code. And if you can automate the testing process along the way, you can minimize the introduction of bugs in your software development process. Do this, and everyone wins – the developer, the organization, and the end customer.Q. What skills should developers be looking to build to ensure they stay marketable heading into next year?I’ve been thinking a lot about this concept of infrastructure as code, the idea that developers can impact not just the software they are developing, but the underlying infrastructure. For example, developers can now control the number of servers their software is running on, and configure those servers accordingly.I’m not saying every developer needs to know how to do this, but as more and more software moves to public cloud (on that note, check out our recent announcement of Salesforce Hyperforce), developers should at least be aware that they have the ability to define what that underlying infrastructure will look like.Q. Where can people go to learn more about what resources Salesforce has for developers?I’d encourage everyone to attend DreamTX, a four-day global event that kicks off December 14. There will be a ton of content and workshops geared towards developers, and — in true Salesforce fashion — we’ll also have a number of thought leadership sessions hosted by special guests.You can also tune into free live and on-demand content on Trailhead LIVE to learn more about modern app development, and more.ShareShare on EmailShare on TwitterShare on FacebookShare on LinkedInTagsAppExchangeInnovationSnapshots'"
      ]
     },
     "execution_count": 200,
     "metadata": {
      "tags": []
     },
     "output_type": "execute_result"
    }
   ],
   "source": [
    "df_salesforce.articles[1]"
   ]
  },
  {
   "cell_type": "code",
   "execution_count": 207,
   "metadata": {
    "colab": {
     "base_uri": "https://localhost:8080/",
     "height": 35
    },
    "id": "nUzNunnsTozE",
    "outputId": "d866b7cc-f33a-4f8d-fef0-fc06c50d269d"
   },
   "outputs": [
    {
     "data": {
      "application/vnd.google.colaboratory.intrinsic+json": {
       "type": "string"
      },
      "text/plain": [
       "'https://sforce.co/3oH7mIA'"
      ]
     },
     "execution_count": 207,
     "metadata": {
      "tags": []
     },
     "output_type": "execute_result"
    }
   ],
   "source": [
    "df_salesforce.url[4]"
   ]
  },
  {
   "cell_type": "code",
   "execution_count": 208,
   "metadata": {
    "colab": {
     "base_uri": "https://localhost:8080/",
     "height": 35
    },
    "id": "YqLDB-20TwLK",
    "outputId": "d7ad7c18-34f1-41ff-cdc3-b77ed39e84be"
   },
   "outputs": [
    {
     "data": {
      "application/vnd.google.colaboratory.intrinsic+json": {
       "type": "string"
      },
      "text/plain": [
       "''"
      ]
     },
     "execution_count": 208,
     "metadata": {
      "tags": []
     },
     "output_type": "execute_result"
    }
   ],
   "source": [
    "df_salesforce.articles[4]"
   ]
  },
  {
   "cell_type": "markdown",
   "metadata": {
    "id": "igW7ZQOePa61"
   },
   "source": [
    "<a id='pkl'></a>\n",
    "## Pickling dataframe to begin the work of the classifier in a new file:"
   ]
  },
  {
   "cell_type": "code",
   "execution_count": 202,
   "metadata": {
    "id": "eBx09GVbPhCk"
   },
   "outputs": [],
   "source": [
    "import pickle\n",
    "\n",
    "filename = 'Entire_Dataset.pkl'\n",
    "\n",
    "out = open(filename,'wb')\n",
    "\n",
    "pickle.dump(df_salesforce,out)\n",
    "out.close()"
   ]
  },
  {
   "cell_type": "code",
   "execution_count": null,
   "metadata": {
    "id": "0GXw5-T8P6k5"
   },
   "outputs": [],
   "source": []
  }
 ],
 "metadata": {
  "colab": {
   "collapsed_sections": [
    "Vh9o0rOQpXnh"
   ],
   "name": "Dec_10_11",
   "provenance": []
  },
  "kernelspec": {
   "display_name": "Python 3",
   "language": "python",
   "name": "python3"
  },
  "language_info": {
   "codemirror_mode": {
    "name": "ipython",
    "version": 3
   },
   "file_extension": ".py",
   "mimetype": "text/x-python",
   "name": "python",
   "nbconvert_exporter": "python",
   "pygments_lexer": "ipython3",
   "version": "3.7.6"
  }
 },
 "nbformat": 4,
 "nbformat_minor": 1
}
