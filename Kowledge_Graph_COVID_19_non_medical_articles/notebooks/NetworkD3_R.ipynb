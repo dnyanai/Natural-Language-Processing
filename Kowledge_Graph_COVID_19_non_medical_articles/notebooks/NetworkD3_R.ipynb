{
  "nbformat": 4,
  "nbformat_minor": 0,
  "metadata": {
    "kernelspec": {
      "display_name": "R",
      "language": "R",
      "name": "ir"
    },
    "language_info": {
      "codemirror_mode": "r",
      "file_extension": ".r",
      "mimetype": "text/x-r-source",
      "name": "R",
      "pygments_lexer": "r",
      "version": "3.6.3"
    },
    "colab": {
      "name": "10-GraphTheory_R.ipynb",
      "provenance": []
    }
  },
  "cells": [
    {
      "cell_type": "markdown",
      "metadata": {
        "id": "9o_N7EBZU5pn"
      },
      "source": [
        "# Network D3 Example"
      ]
    },
    {
      "cell_type": "code",
      "metadata": {
        "id": "ITfuGD0jU5pn",
        "outputId": "c1a84c91-5f55-4b7e-8de7-7c7f792b584c",
        "colab": {
          "base_uri": "https://localhost:8080/"
        }
      },
      "source": [
        "install.packages('networkD3')"
      ],
      "execution_count": null,
      "outputs": [
        {
          "output_type": "stream",
          "text": [
            "Installing package into ‘/usr/local/lib/R/site-library’\n",
            "(as ‘lib’ is unspecified)\n",
            "\n",
            "also installing the dependency ‘igraph’\n",
            "\n",
            "\n"
          ],
          "name": "stderr"
        }
      ]
    },
    {
      "cell_type": "markdown",
      "metadata": {
        "id": "pFdFdqEOU5pq"
      },
      "source": [
        "## Network D3 plots\n",
        "\n",
        "- https://christophergandrud.github.io/networkD3/"
      ]
    },
    {
      "cell_type": "code",
      "metadata": {
        "id": "fpOI0hqPU5pr"
      },
      "source": [
        "dfLinks = read.csv('/content/Links.csv', header=TRUE)\n",
        "dfNodes = read.csv('/content/Nodes.csv', header=TRUE)"
      ],
      "execution_count": null,
      "outputs": []
    },
    {
      "cell_type": "code",
      "metadata": {
        "id": "DWerE0-bU5pr"
      },
      "source": [
        "head(dfLinks)"
      ],
      "execution_count": null,
      "outputs": []
    },
    {
      "cell_type": "code",
      "metadata": {
        "id": "YetaZ3xJU5pr"
      },
      "source": [
        "head(dfNodes)"
      ],
      "execution_count": null,
      "outputs": []
    },
    {
      "cell_type": "code",
      "metadata": {
        "id": "0DIgXFweU5pr"
      },
      "source": [
        "library(networkD3)\n",
        "\n",
        "# Plot\n",
        "p = forceNetwork(Links = dfLinks, Nodes = dfNodes,\n",
        "            Source = \"key_n1\", Target = \"key_n2\",\n",
        "            Value = \"value\", NodeID = \"name\",\n",
        "            Group = \"keys\", opacity = 0.8, fontSize = 50)"
      ],
      "execution_count": null,
      "outputs": []
    },
    {
      "cell_type": "code",
      "metadata": {
        "id": "209g-Yp7U5pr"
      },
      "source": [
        "saveNetwork(p, file='tickernet.html', selfcontained = TRUE)"
      ],
      "execution_count": null,
      "outputs": []
    },
    {
      "cell_type": "code",
      "metadata": {
        "id": "V6-X235_U5pr"
      },
      "source": [
        ""
      ],
      "execution_count": null,
      "outputs": []
    }
  ]
}